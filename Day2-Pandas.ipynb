{
 "cells": [
  {
   "cell_type": "code",
   "execution_count": 1,
   "metadata": {
    "collapsed": true
   },
   "outputs": [],
   "source": [
    "import pandas"
   ]
  },
  {
   "cell_type": "code",
   "execution_count": 2,
   "metadata": {},
   "outputs": [
    {
     "data": {
      "text/plain": [
       "pandas.core.series.Series"
      ]
     },
     "execution_count": 2,
     "metadata": {},
     "output_type": "execute_result"
    }
   ],
   "source": [
    "pandas.Series"
   ]
  },
  {
   "cell_type": "code",
   "execution_count": 3,
   "metadata": {
    "collapsed": true
   },
   "outputs": [],
   "source": [
    "a = [1,2,3,4]"
   ]
  },
  {
   "cell_type": "code",
   "execution_count": 4,
   "metadata": {},
   "outputs": [
    {
     "data": {
      "text/plain": [
       "1"
      ]
     },
     "execution_count": 4,
     "metadata": {},
     "output_type": "execute_result"
    }
   ],
   "source": [
    "a[0] # access data by index"
   ]
  },
  {
   "cell_type": "code",
   "execution_count": 5,
   "metadata": {
    "collapsed": true
   },
   "outputs": [],
   "source": [
    "s = pandas.Series(a)"
   ]
  },
  {
   "cell_type": "code",
   "execution_count": 6,
   "metadata": {},
   "outputs": [
    {
     "data": {
      "text/plain": [
       "0    1\n",
       "1    2\n",
       "2    3\n",
       "3    4\n",
       "dtype: int64"
      ]
     },
     "execution_count": 6,
     "metadata": {},
     "output_type": "execute_result"
    }
   ],
   "source": [
    "s"
   ]
  },
  {
   "cell_type": "code",
   "execution_count": 7,
   "metadata": {},
   "outputs": [
    {
     "data": {
      "text/plain": [
       "(2, 4)"
      ]
     },
     "execution_count": 7,
     "metadata": {},
     "output_type": "execute_result"
    }
   ],
   "source": [
    "s[1], s[3]"
   ]
  },
  {
   "cell_type": "code",
   "execution_count": 8,
   "metadata": {},
   "outputs": [
    {
     "data": {
      "text/plain": [
       "0    1\n",
       "1    2\n",
       "dtype: int64"
      ]
     },
     "execution_count": 8,
     "metadata": {},
     "output_type": "execute_result"
    }
   ],
   "source": [
    "s[:2]"
   ]
  },
  {
   "cell_type": "code",
   "execution_count": 9,
   "metadata": {},
   "outputs": [
    {
     "data": {
      "text/plain": [
       "0    2\n",
       "1    4\n",
       "2    6\n",
       "3    8\n",
       "dtype: int64"
      ]
     },
     "execution_count": 9,
     "metadata": {},
     "output_type": "execute_result"
    }
   ],
   "source": [
    "s * 2"
   ]
  },
  {
   "cell_type": "code",
   "execution_count": 11,
   "metadata": {
    "collapsed": true
   },
   "outputs": [],
   "source": [
    "s2 = pandas.Series([2,3,4,5])"
   ]
  },
  {
   "cell_type": "code",
   "execution_count": 12,
   "metadata": {},
   "outputs": [
    {
     "data": {
      "text/plain": [
       "0    2\n",
       "1    3\n",
       "2    4\n",
       "3    5\n",
       "dtype: int64"
      ]
     },
     "execution_count": 12,
     "metadata": {},
     "output_type": "execute_result"
    }
   ],
   "source": [
    "s2"
   ]
  },
  {
   "cell_type": "code",
   "execution_count": 13,
   "metadata": {},
   "outputs": [
    {
     "data": {
      "text/plain": [
       "0    3\n",
       "1    5\n",
       "2    7\n",
       "3    9\n",
       "dtype: int64"
      ]
     },
     "execution_count": 13,
     "metadata": {},
     "output_type": "execute_result"
    }
   ],
   "source": [
    "s + s2"
   ]
  },
  {
   "cell_type": "code",
   "execution_count": 14,
   "metadata": {
    "collapsed": true
   },
   "outputs": [],
   "source": [
    "s3 = pandas.Series([3,4,5,6], index=['a', 'b', 'c', 'd'])"
   ]
  },
  {
   "cell_type": "code",
   "execution_count": 15,
   "metadata": {},
   "outputs": [
    {
     "data": {
      "text/plain": [
       "a    3\n",
       "b    4\n",
       "c    5\n",
       "d    6\n",
       "dtype: int64"
      ]
     },
     "execution_count": 15,
     "metadata": {},
     "output_type": "execute_result"
    }
   ],
   "source": [
    "s3"
   ]
  },
  {
   "cell_type": "code",
   "execution_count": 16,
   "metadata": {},
   "outputs": [
    {
     "data": {
      "text/plain": [
       "3"
      ]
     },
     "execution_count": 16,
     "metadata": {},
     "output_type": "execute_result"
    }
   ],
   "source": [
    "s3['a']"
   ]
  },
  {
   "cell_type": "code",
   "execution_count": 17,
   "metadata": {},
   "outputs": [
    {
     "data": {
      "text/plain": [
       "Index([u'a', u'b', u'c', u'd'], dtype='object')"
      ]
     },
     "execution_count": 17,
     "metadata": {},
     "output_type": "execute_result"
    }
   ],
   "source": [
    "s3.index"
   ]
  },
  {
   "cell_type": "code",
   "execution_count": 18,
   "metadata": {
    "collapsed": true
   },
   "outputs": [],
   "source": [
    "s4 = pandas.Series(2, index=s3.index)"
   ]
  },
  {
   "cell_type": "code",
   "execution_count": 19,
   "metadata": {},
   "outputs": [
    {
     "data": {
      "text/plain": [
       "a    2\n",
       "b    2\n",
       "c    2\n",
       "d    2\n",
       "dtype: int64"
      ]
     },
     "execution_count": 19,
     "metadata": {},
     "output_type": "execute_result"
    }
   ],
   "source": [
    "s4"
   ]
  },
  {
   "cell_type": "code",
   "execution_count": 20,
   "metadata": {},
   "outputs": [
    {
     "data": {
      "text/plain": [
       "a     6\n",
       "b     8\n",
       "c    10\n",
       "d    12\n",
       "dtype: int64"
      ]
     },
     "execution_count": 20,
     "metadata": {},
     "output_type": "execute_result"
    }
   ],
   "source": [
    "s3 * s4"
   ]
  },
  {
   "cell_type": "code",
   "execution_count": 21,
   "metadata": {
    "collapsed": true
   },
   "outputs": [],
   "source": [
    "s5 = pandas.Series([4,5,6], index=['c', 'd', 'e'])"
   ]
  },
  {
   "cell_type": "code",
   "execution_count": 22,
   "metadata": {},
   "outputs": [
    {
     "data": {
      "text/plain": [
       "a     NaN\n",
       "b     NaN\n",
       "c     9.0\n",
       "d    11.0\n",
       "e     NaN\n",
       "dtype: float64"
      ]
     },
     "execution_count": 22,
     "metadata": {},
     "output_type": "execute_result"
    }
   ],
   "source": [
    "s3 + s5"
   ]
  },
  {
   "cell_type": "code",
   "execution_count": 23,
   "metadata": {},
   "outputs": [
    {
     "data": {
      "text/plain": [
       "(4, 3)"
      ]
     },
     "execution_count": 23,
     "metadata": {},
     "output_type": "execute_result"
    }
   ],
   "source": [
    "len(s3), len(s5)"
   ]
  },
  {
   "cell_type": "code",
   "execution_count": 24,
   "metadata": {
    "collapsed": true
   },
   "outputs": [],
   "source": [
    "s6 = s3 + s5"
   ]
  },
  {
   "cell_type": "code",
   "execution_count": 25,
   "metadata": {},
   "outputs": [
    {
     "data": {
      "text/plain": [
       "a     NaN\n",
       "b     NaN\n",
       "c     9.0\n",
       "d    11.0\n",
       "e     NaN\n",
       "dtype: float64"
      ]
     },
     "execution_count": 25,
     "metadata": {},
     "output_type": "execute_result"
    }
   ],
   "source": [
    "s6"
   ]
  },
  {
   "cell_type": "code",
   "execution_count": 26,
   "metadata": {},
   "outputs": [
    {
     "data": {
      "text/plain": [
       "5"
      ]
     },
     "execution_count": 26,
     "metadata": {},
     "output_type": "execute_result"
    }
   ],
   "source": [
    "len(s6) # number of values in the series"
   ]
  },
  {
   "cell_type": "code",
   "execution_count": 27,
   "metadata": {},
   "outputs": [
    {
     "data": {
      "text/plain": [
       "2"
      ]
     },
     "execution_count": 27,
     "metadata": {},
     "output_type": "execute_result"
    }
   ],
   "source": [
    "s6.count() # count a value, ignore missing values"
   ]
  },
  {
   "cell_type": "code",
   "execution_count": 28,
   "metadata": {},
   "outputs": [
    {
     "data": {
      "text/plain": [
       "array([3, 4, 5, 6])"
      ]
     },
     "execution_count": 28,
     "metadata": {},
     "output_type": "execute_result"
    }
   ],
   "source": [
    "s3.unique() # find unique values"
   ]
  },
  {
   "cell_type": "code",
   "execution_count": 29,
   "metadata": {
    "collapsed": true
   },
   "outputs": [],
   "source": [
    "s7 = pandas.Series([1,1,1,2,2,3,4,4,4,5,5,3,4,0])"
   ]
  },
  {
   "cell_type": "code",
   "execution_count": 30,
   "metadata": {},
   "outputs": [
    {
     "data": {
      "text/plain": [
       "0     1\n",
       "1     1\n",
       "2     1\n",
       "3     2\n",
       "4     2\n",
       "5     3\n",
       "6     4\n",
       "7     4\n",
       "8     4\n",
       "9     5\n",
       "10    5\n",
       "11    3\n",
       "12    4\n",
       "13    0\n",
       "dtype: int64"
      ]
     },
     "execution_count": 30,
     "metadata": {},
     "output_type": "execute_result"
    }
   ],
   "source": [
    "s7"
   ]
  },
  {
   "cell_type": "code",
   "execution_count": 32,
   "metadata": {},
   "outputs": [
    {
     "data": {
      "text/plain": [
       "array([1, 2, 3, 4, 5, 0])"
      ]
     },
     "execution_count": 32,
     "metadata": {},
     "output_type": "execute_result"
    }
   ],
   "source": [
    "s7.unique()"
   ]
  },
  {
   "cell_type": "code",
   "execution_count": 33,
   "metadata": {},
   "outputs": [
    {
     "data": {
      "text/plain": [
       "4    4\n",
       "1    3\n",
       "5    2\n",
       "3    2\n",
       "2    2\n",
       "0    1\n",
       "dtype: int64"
      ]
     },
     "execution_count": 33,
     "metadata": {},
     "output_type": "execute_result"
    }
   ],
   "source": [
    "s7.value_counts()"
   ]
  },
  {
   "cell_type": "code",
   "execution_count": 35,
   "metadata": {},
   "outputs": [
    {
     "data": {
      "text/plain": [
       "0    1\n",
       "1    1\n",
       "2    1\n",
       "dtype: int64"
      ]
     },
     "execution_count": 35,
     "metadata": {},
     "output_type": "execute_result"
    }
   ],
   "source": [
    "s7.head(n=3)"
   ]
  },
  {
   "cell_type": "code",
   "execution_count": 36,
   "metadata": {},
   "outputs": [
    {
     "data": {
      "text/plain": [
       "11    3\n",
       "12    4\n",
       "13    0\n",
       "dtype: int64"
      ]
     },
     "execution_count": 36,
     "metadata": {},
     "output_type": "execute_result"
    }
   ],
   "source": [
    "s7.tail(n=3)"
   ]
  },
  {
   "cell_type": "code",
   "execution_count": 40,
   "metadata": {},
   "outputs": [
    {
     "data": {
      "text/plain": [
       "a    3\n",
       "c    5\n",
       "dtype: int64"
      ]
     },
     "execution_count": 40,
     "metadata": {},
     "output_type": "execute_result"
    }
   ],
   "source": [
    "s3[['a', 'c']]"
   ]
  },
  {
   "cell_type": "code",
   "execution_count": 41,
   "metadata": {
    "collapsed": true
   },
   "outputs": [],
   "source": [
    "s8 = pandas.Series([34,45,67,], index=[11,12,13])"
   ]
  },
  {
   "cell_type": "code",
   "execution_count": 42,
   "metadata": {},
   "outputs": [
    {
     "data": {
      "text/plain": [
       "11    34\n",
       "12    45\n",
       "13    67\n",
       "dtype: int64"
      ]
     },
     "execution_count": 42,
     "metadata": {},
     "output_type": "execute_result"
    }
   ],
   "source": [
    "s8"
   ]
  },
  {
   "cell_type": "code",
   "execution_count": 43,
   "metadata": {},
   "outputs": [
    {
     "data": {
      "text/plain": [
       "34"
      ]
     },
     "execution_count": 43,
     "metadata": {},
     "output_type": "execute_result"
    }
   ],
   "source": [
    "s8[11]"
   ]
  },
  {
   "cell_type": "code",
   "execution_count": 46,
   "metadata": {},
   "outputs": [
    {
     "data": {
      "text/plain": [
       "34"
      ]
     },
     "execution_count": 46,
     "metadata": {},
     "output_type": "execute_result"
    }
   ],
   "source": [
    "s8.loc[11] # numerical label"
   ]
  },
  {
   "cell_type": "code",
   "execution_count": 50,
   "metadata": {},
   "outputs": [
    {
     "data": {
      "text/plain": [
       "a    3\n",
       "b    4\n",
       "c    5\n",
       "d    6\n",
       "dtype: int64"
      ]
     },
     "execution_count": 50,
     "metadata": {},
     "output_type": "execute_result"
    }
   ],
   "source": [
    "s3"
   ]
  },
  {
   "cell_type": "code",
   "execution_count": 51,
   "metadata": {},
   "outputs": [
    {
     "data": {
      "text/plain": [
       "5"
      ]
     },
     "execution_count": 51,
     "metadata": {},
     "output_type": "execute_result"
    }
   ],
   "source": [
    "s3[2]"
   ]
  },
  {
   "cell_type": "code",
   "execution_count": 54,
   "metadata": {},
   "outputs": [
    {
     "data": {
      "text/plain": [
       "4"
      ]
     },
     "execution_count": 54,
     "metadata": {},
     "output_type": "execute_result"
    }
   ],
   "source": [
    "s.loc[3]"
   ]
  },
  {
   "cell_type": "code",
   "execution_count": 53,
   "metadata": {},
   "outputs": [
    {
     "data": {
      "text/plain": [
       "3"
      ]
     },
     "execution_count": 53,
     "metadata": {},
     "output_type": "execute_result"
    }
   ],
   "source": [
    "s3.loc['a']"
   ]
  },
  {
   "cell_type": "code",
   "execution_count": 56,
   "metadata": {},
   "outputs": [
    {
     "data": {
      "text/plain": [
       "0     False\n",
       "1     False\n",
       "2     False\n",
       "3     False\n",
       "4     False\n",
       "5      True\n",
       "6      True\n",
       "7      True\n",
       "8      True\n",
       "9      True\n",
       "10     True\n",
       "11     True\n",
       "12     True\n",
       "13    False\n",
       "dtype: bool"
      ]
     },
     "execution_count": 56,
     "metadata": {},
     "output_type": "execute_result"
    }
   ],
   "source": [
    "s7 > 2"
   ]
  },
  {
   "cell_type": "code",
   "execution_count": 57,
   "metadata": {
    "collapsed": true
   },
   "outputs": [],
   "source": [
    "idx = s7 > 2"
   ]
  },
  {
   "cell_type": "code",
   "execution_count": 58,
   "metadata": {},
   "outputs": [
    {
     "data": {
      "text/plain": [
       "0     False\n",
       "1     False\n",
       "2     False\n",
       "3     False\n",
       "4     False\n",
       "5      True\n",
       "6      True\n",
       "7      True\n",
       "8      True\n",
       "9      True\n",
       "10     True\n",
       "11     True\n",
       "12     True\n",
       "13    False\n",
       "dtype: bool"
      ]
     },
     "execution_count": 58,
     "metadata": {},
     "output_type": "execute_result"
    }
   ],
   "source": [
    "idx"
   ]
  },
  {
   "cell_type": "code",
   "execution_count": 59,
   "metadata": {},
   "outputs": [
    {
     "data": {
      "text/plain": [
       "5     3\n",
       "6     4\n",
       "7     4\n",
       "8     4\n",
       "9     5\n",
       "10    5\n",
       "11    3\n",
       "12    4\n",
       "dtype: int64"
      ]
     },
     "execution_count": 59,
     "metadata": {},
     "output_type": "execute_result"
    }
   ],
   "source": [
    "s7[idx]"
   ]
  },
  {
   "cell_type": "code",
   "execution_count": 63,
   "metadata": {},
   "outputs": [
    {
     "data": {
      "text/plain": [
       "5     3\n",
       "6     4\n",
       "7     4\n",
       "8     4\n",
       "9     5\n",
       "10    5\n",
       "11    3\n",
       "12    4\n",
       "13    0\n",
       "dtype: int64"
      ]
     },
     "execution_count": 63,
     "metadata": {},
     "output_type": "execute_result"
    }
   ],
   "source": [
    "s7[(s7 > 2) | (s7 == 0)]"
   ]
  },
  {
   "cell_type": "code",
   "execution_count": 65,
   "metadata": {},
   "outputs": [
    {
     "data": {
      "text/plain": [
       "a    3\n",
       "b    4\n",
       "c    5\n",
       "d    6\n",
       "dtype: int64"
      ]
     },
     "execution_count": 65,
     "metadata": {},
     "output_type": "execute_result"
    }
   ],
   "source": [
    "s3"
   ]
  },
  {
   "cell_type": "code",
   "execution_count": 66,
   "metadata": {
    "collapsed": true
   },
   "outputs": [],
   "source": [
    "s9 = pandas.Series([5,6,7], index=['a', 'a', 'c'])"
   ]
  },
  {
   "cell_type": "code",
   "execution_count": 67,
   "metadata": {},
   "outputs": [
    {
     "data": {
      "text/plain": [
       "a    5\n",
       "a    6\n",
       "c    7\n",
       "dtype: int64"
      ]
     },
     "execution_count": 67,
     "metadata": {},
     "output_type": "execute_result"
    }
   ],
   "source": [
    "s9"
   ]
  },
  {
   "cell_type": "code",
   "execution_count": 68,
   "metadata": {},
   "outputs": [
    {
     "data": {
      "text/plain": [
       "a     8.0\n",
       "a     9.0\n",
       "b     NaN\n",
       "c    12.0\n",
       "d     NaN\n",
       "dtype: float64"
      ]
     },
     "execution_count": 68,
     "metadata": {},
     "output_type": "execute_result"
    }
   ],
   "source": [
    "s3 + s9"
   ]
  },
  {
   "cell_type": "code",
   "execution_count": 69,
   "metadata": {
    "collapsed": true
   },
   "outputs": [],
   "source": [
    "s10 = pandas.Series([2,3,4], index=['a', 'a', 'd'])"
   ]
  },
  {
   "cell_type": "code",
   "execution_count": 70,
   "metadata": {},
   "outputs": [
    {
     "data": {
      "text/plain": [
       "a    7.0\n",
       "a    8.0\n",
       "a    8.0\n",
       "a    9.0\n",
       "c    NaN\n",
       "d    NaN\n",
       "dtype: float64"
      ]
     },
     "execution_count": 70,
     "metadata": {},
     "output_type": "execute_result"
    }
   ],
   "source": [
    "s9 + s10"
   ]
  },
  {
   "cell_type": "code",
   "execution_count": 108,
   "metadata": {
    "collapsed": true
   },
   "outputs": [],
   "source": [
    "s11 = s9 + s10"
   ]
  },
  {
   "cell_type": "code",
   "execution_count": 80,
   "metadata": {},
   "outputs": [
    {
     "data": {
      "text/plain": [
       "a    7.0\n",
       "a    8.0\n",
       "a    8.0\n",
       "a    9.0\n",
       "c    NaN\n",
       "d    NaN\n",
       "dtype: float64"
      ]
     },
     "execution_count": 80,
     "metadata": {},
     "output_type": "execute_result"
    }
   ],
   "source": [
    "s11"
   ]
  },
  {
   "cell_type": "code",
   "execution_count": 81,
   "metadata": {},
   "outputs": [
    {
     "data": {
      "text/plain": [
       "a    False\n",
       "a    False\n",
       "a     True\n",
       "a    False\n",
       "c    False\n",
       "d     True\n",
       "dtype: bool"
      ]
     },
     "execution_count": 81,
     "metadata": {},
     "output_type": "execute_result"
    }
   ],
   "source": [
    "s11.duplicated()"
   ]
  },
  {
   "cell_type": "code",
   "execution_count": 82,
   "metadata": {},
   "outputs": [
    {
     "data": {
      "text/plain": [
       "a    8.0\n",
       "d    NaN\n",
       "dtype: float64"
      ]
     },
     "execution_count": 82,
     "metadata": {},
     "output_type": "execute_result"
    }
   ],
   "source": [
    "s11[s11.duplicated()]"
   ]
  },
  {
   "cell_type": "code",
   "execution_count": 83,
   "metadata": {},
   "outputs": [
    {
     "data": {
      "text/plain": [
       "a    7.0\n",
       "a    8.0\n",
       "a    9.0\n",
       "c    NaN\n",
       "dtype: float64"
      ]
     },
     "execution_count": 83,
     "metadata": {},
     "output_type": "execute_result"
    }
   ],
   "source": [
    "s11.drop_duplicates()"
   ]
  },
  {
   "cell_type": "code",
   "execution_count": 84,
   "metadata": {},
   "outputs": [],
   "source": [
    "cln_s11 = s11.drop_duplicates()"
   ]
  },
  {
   "cell_type": "code",
   "execution_count": 85,
   "metadata": {},
   "outputs": [
    {
     "data": {
      "text/plain": [
       "a    7.0\n",
       "a    8.0\n",
       "a    9.0\n",
       "c    NaN\n",
       "dtype: float64"
      ]
     },
     "execution_count": 85,
     "metadata": {},
     "output_type": "execute_result"
    }
   ],
   "source": [
    "cln_s11"
   ]
  },
  {
   "cell_type": "code",
   "execution_count": 86,
   "metadata": {},
   "outputs": [
    {
     "data": {
      "text/plain": [
       "a    7.0\n",
       "a    8.0\n",
       "a    8.0\n",
       "a    9.0\n",
       "dtype: float64"
      ]
     },
     "execution_count": 86,
     "metadata": {},
     "output_type": "execute_result"
    }
   ],
   "source": [
    "s11.dropna()"
   ]
  },
  {
   "cell_type": "code",
   "execution_count": 87,
   "metadata": {},
   "outputs": [
    {
     "data": {
      "text/plain": [
       "a    7.0\n",
       "a    8.0\n",
       "a    9.0\n",
       "dtype: float64"
      ]
     },
     "execution_count": 87,
     "metadata": {},
     "output_type": "execute_result"
    }
   ],
   "source": [
    "s11.dropna().drop_duplicates()"
   ]
  },
  {
   "cell_type": "code",
   "execution_count": 89,
   "metadata": {},
   "outputs": [
    {
     "data": {
      "text/plain": [
       "(array([  7.,   8.,   8.,   9.,  nan,  nan]),\n",
       " Index([u'a', u'a', u'a', u'a', u'c', u'd'], dtype='object'))"
      ]
     },
     "execution_count": 89,
     "metadata": {},
     "output_type": "execute_result"
    }
   ],
   "source": [
    "s11.values, s11.index"
   ]
  },
  {
   "cell_type": "code",
   "execution_count": 90,
   "metadata": {
    "collapsed": true
   },
   "outputs": [],
   "source": [
    "s12 = s11.dropna().drop_duplicates()"
   ]
  },
  {
   "cell_type": "code",
   "execution_count": 91,
   "metadata": {},
   "outputs": [
    {
     "data": {
      "text/plain": [
       "a    7.0\n",
       "a    8.0\n",
       "a    9.0\n",
       "dtype: float64"
      ]
     },
     "execution_count": 91,
     "metadata": {},
     "output_type": "execute_result"
    }
   ],
   "source": [
    "s12"
   ]
  },
  {
   "cell_type": "code",
   "execution_count": 92,
   "metadata": {
    "collapsed": true
   },
   "outputs": [],
   "source": [
    "s12.index = ['a', 'b', 'c']"
   ]
  },
  {
   "cell_type": "code",
   "execution_count": 93,
   "metadata": {},
   "outputs": [
    {
     "data": {
      "text/plain": [
       "a    7.0\n",
       "b    8.0\n",
       "c    9.0\n",
       "dtype: float64"
      ]
     },
     "execution_count": 93,
     "metadata": {},
     "output_type": "execute_result"
    }
   ],
   "source": [
    "s12"
   ]
  },
  {
   "cell_type": "code",
   "execution_count": 94,
   "metadata": {},
   "outputs": [
    {
     "data": {
      "text/plain": [
       "a    7.0\n",
       "a    8.0\n",
       "a    8.0\n",
       "a    9.0\n",
       "c    NaN\n",
       "d    NaN\n",
       "dtype: float64"
      ]
     },
     "execution_count": 94,
     "metadata": {},
     "output_type": "execute_result"
    }
   ],
   "source": [
    "s11"
   ]
  },
  {
   "cell_type": "code",
   "execution_count": 95,
   "metadata": {},
   "outputs": [
    {
     "data": {
      "text/plain": [
       "8.0"
      ]
     },
     "execution_count": 95,
     "metadata": {},
     "output_type": "execute_result"
    }
   ],
   "source": [
    "s11.mean()"
   ]
  },
  {
   "cell_type": "code",
   "execution_count": 96,
   "metadata": {},
   "outputs": [
    {
     "data": {
      "text/plain": [
       "nan"
      ]
     },
     "execution_count": 96,
     "metadata": {},
     "output_type": "execute_result"
    }
   ],
   "source": [
    "s11.mean(skipna=False)"
   ]
  },
  {
   "cell_type": "code",
   "execution_count": 97,
   "metadata": {},
   "outputs": [
    {
     "data": {
      "text/plain": [
       "8.0"
      ]
     },
     "execution_count": 97,
     "metadata": {},
     "output_type": "execute_result"
    }
   ],
   "source": [
    "s11.median()"
   ]
  },
  {
   "cell_type": "code",
   "execution_count": 98,
   "metadata": {},
   "outputs": [
    {
     "data": {
      "text/plain": [
       "count    4.000000\n",
       "mean     8.000000\n",
       "std      0.816497\n",
       "min      7.000000\n",
       "25%      7.750000\n",
       "50%      8.000000\n",
       "75%      8.250000\n",
       "max      9.000000\n",
       "dtype: float64"
      ]
     },
     "execution_count": 98,
     "metadata": {},
     "output_type": "execute_result"
    }
   ],
   "source": [
    "s11.describe()"
   ]
  },
  {
   "cell_type": "code",
   "execution_count": 99,
   "metadata": {
    "collapsed": true
   },
   "outputs": [],
   "source": [
    "s11_stats = s11.describe()"
   ]
  },
  {
   "cell_type": "code",
   "execution_count": 100,
   "metadata": {},
   "outputs": [
    {
     "data": {
      "text/plain": [
       "count    4.000000\n",
       "mean     8.000000\n",
       "std      0.816497\n",
       "min      7.000000\n",
       "25%      7.750000\n",
       "50%      8.000000\n",
       "75%      8.250000\n",
       "max      9.000000\n",
       "dtype: float64"
      ]
     },
     "execution_count": 100,
     "metadata": {},
     "output_type": "execute_result"
    }
   ],
   "source": [
    "s11_stats"
   ]
  },
  {
   "cell_type": "code",
   "execution_count": 103,
   "metadata": {},
   "outputs": [
    {
     "data": {
      "text/plain": [
       "(8.0, 7.0)"
      ]
     },
     "execution_count": 103,
     "metadata": {},
     "output_type": "execute_result"
    }
   ],
   "source": [
    "s11_stats['mean'], s11_stats['min']"
   ]
  },
  {
   "cell_type": "code",
   "execution_count": 106,
   "metadata": {},
   "outputs": [],
   "source": [
    "s11_stats['total'] = s11.sum()"
   ]
  },
  {
   "cell_type": "code",
   "execution_count": 107,
   "metadata": {},
   "outputs": [
    {
     "data": {
      "text/plain": [
       "count     4.000000\n",
       "mean      8.000000\n",
       "std       0.816497\n",
       "min       7.000000\n",
       "25%       7.750000\n",
       "50%       8.000000\n",
       "75%       8.250000\n",
       "max       9.000000\n",
       "total    64.000000\n",
       "dtype: float64"
      ]
     },
     "execution_count": 107,
     "metadata": {},
     "output_type": "execute_result"
    }
   ],
   "source": [
    "s11_stats"
   ]
  },
  {
   "cell_type": "code",
   "execution_count": 109,
   "metadata": {},
   "outputs": [
    {
     "data": {
      "text/plain": [
       "a    7.0\n",
       "a    8.0\n",
       "a    8.0\n",
       "a    9.0\n",
       "c    NaN\n",
       "d    NaN\n",
       "dtype: float64"
      ]
     },
     "execution_count": 109,
     "metadata": {},
     "output_type": "execute_result"
    }
   ],
   "source": [
    "s11"
   ]
  },
  {
   "cell_type": "code",
   "execution_count": 110,
   "metadata": {},
   "outputs": [
    {
     "data": {
      "text/plain": [
       "a    7.0\n",
       "a    8.0\n",
       "a    8.0\n",
       "a    9.0\n",
       "c    0.0\n",
       "d    0.0\n",
       "dtype: float64"
      ]
     },
     "execution_count": 110,
     "metadata": {},
     "output_type": "execute_result"
    }
   ],
   "source": [
    "s11.fillna(0)"
   ]
  },
  {
   "cell_type": "code",
   "execution_count": 113,
   "metadata": {},
   "outputs": [
    {
     "data": {
      "text/plain": [
       "a    7.0\n",
       "a    8.0\n",
       "a    8.0\n",
       "a    9.0\n",
       "c    9.0\n",
       "d    9.0\n",
       "dtype: float64"
      ]
     },
     "execution_count": 113,
     "metadata": {},
     "output_type": "execute_result"
    }
   ],
   "source": [
    "s11.fillna(method='ffill')"
   ]
  },
  {
   "cell_type": "code",
   "execution_count": 114,
   "metadata": {},
   "outputs": [
    {
     "data": {
      "text/plain": [
       "a    7.0\n",
       "a    8.0\n",
       "a    8.0\n",
       "a    9.0\n",
       "c    NaN\n",
       "d    NaN\n",
       "dtype: float64"
      ]
     },
     "execution_count": 114,
     "metadata": {},
     "output_type": "execute_result"
    }
   ],
   "source": [
    "s11.fillna(method='backfill')"
   ]
  },
  {
   "cell_type": "code",
   "execution_count": 118,
   "metadata": {},
   "outputs": [
    {
     "data": {
      "text/plain": [
       "a    7.0\n",
       "a    8.0\n",
       "a    8.0\n",
       "a    9.0\n",
       "c    NaN\n",
       "d    NaN\n",
       "dtype: float64"
      ]
     },
     "execution_count": 118,
     "metadata": {},
     "output_type": "execute_result"
    }
   ],
   "source": [
    "s11"
   ]
  },
  {
   "cell_type": "code",
   "execution_count": 120,
   "metadata": {},
   "outputs": [
    {
     "data": {
      "text/plain": [
       "(a    3\n",
       " b    4\n",
       " c    5\n",
       " d    6\n",
       " dtype: int64, a    2\n",
       " b    2\n",
       " c    2\n",
       " d    2\n",
       " dtype: int64)"
      ]
     },
     "execution_count": 120,
     "metadata": {},
     "output_type": "execute_result"
    }
   ],
   "source": [
    "s3, s4"
   ]
  },
  {
   "cell_type": "code",
   "execution_count": 121,
   "metadata": {},
   "outputs": [
    {
     "data": {
      "text/plain": [
       "a    3\n",
       "b    4\n",
       "c    5\n",
       "d    6\n",
       "a    2\n",
       "b    2\n",
       "c    2\n",
       "d    2\n",
       "dtype: int64"
      ]
     },
     "execution_count": 121,
     "metadata": {},
     "output_type": "execute_result"
    }
   ],
   "source": [
    "pandas.concat([s3, s4])"
   ]
  },
  {
   "cell_type": "code",
   "execution_count": 122,
   "metadata": {
    "collapsed": true
   },
   "outputs": [],
   "source": [
    "import pandas as pd"
   ]
  },
  {
   "cell_type": "code",
   "execution_count": 123,
   "metadata": {
    "collapsed": true
   },
   "outputs": [],
   "source": [
    "s13 = pd.Series(['normal', 'abnormal'])"
   ]
  },
  {
   "cell_type": "code",
   "execution_count": 124,
   "metadata": {},
   "outputs": [
    {
     "data": {
      "text/plain": [
       "0      normal\n",
       "1    abnormal\n",
       "dtype: object"
      ]
     },
     "execution_count": 124,
     "metadata": {},
     "output_type": "execute_result"
    }
   ],
   "source": [
    "s13"
   ]
  },
  {
   "cell_type": "code",
   "execution_count": 125,
   "metadata": {
    "collapsed": true
   },
   "outputs": [],
   "source": [
    "s13.index = ['a', 'b']"
   ]
  },
  {
   "cell_type": "code",
   "execution_count": 126,
   "metadata": {},
   "outputs": [
    {
     "data": {
      "text/plain": [
       "a      normal\n",
       "b    abnormal\n",
       "dtype: object"
      ]
     },
     "execution_count": 126,
     "metadata": {},
     "output_type": "execute_result"
    }
   ],
   "source": [
    "s13"
   ]
  },
  {
   "cell_type": "code",
   "execution_count": 128,
   "metadata": {},
   "outputs": [
    {
     "data": {
      "text/plain": [
       "a      normal\n",
       "b    abnormal\n",
       "c         NaN\n",
       "dtype: object"
      ]
     },
     "execution_count": 128,
     "metadata": {},
     "output_type": "execute_result"
    }
   ],
   "source": [
    "s13.reindex(['a', 'b', 'c'])"
   ]
  },
  {
   "cell_type": "code",
   "execution_count": 130,
   "metadata": {},
   "outputs": [],
   "source": [
    "s14 = pandas.concat([s3, s4])"
   ]
  },
  {
   "cell_type": "code",
   "execution_count": 135,
   "metadata": {},
   "outputs": [],
   "source": [
    "s14.index = range(len(s14))"
   ]
  },
  {
   "cell_type": "code",
   "execution_count": 136,
   "metadata": {},
   "outputs": [
    {
     "data": {
      "text/plain": [
       "0    3\n",
       "1    4\n",
       "2    5\n",
       "3    6\n",
       "4    2\n",
       "5    2\n",
       "6    2\n",
       "7    2\n",
       "dtype: int64"
      ]
     },
     "execution_count": 136,
     "metadata": {},
     "output_type": "execute_result"
    }
   ],
   "source": [
    "s14"
   ]
  },
  {
   "cell_type": "code",
   "execution_count": 143,
   "metadata": {},
   "outputs": [
    {
     "data": {
      "text/plain": [
       "(6, Index([u'a', u'a', u'a', u'a', u'c', u'd'], dtype='object'))"
      ]
     },
     "execution_count": 143,
     "metadata": {},
     "output_type": "execute_result"
    }
   ],
   "source": [
    "s11.size, s11.index"
   ]
  },
  {
   "cell_type": "markdown",
   "metadata": {},
   "source": [
    "## Data Frame"
   ]
  },
  {
   "cell_type": "code",
   "execution_count": 145,
   "metadata": {
    "collapsed": true
   },
   "outputs": [],
   "source": [
    "df = pd.DataFrame({'a': [1,2,3,4], 'b': [2,3,4,5]})"
   ]
  },
  {
   "cell_type": "code",
   "execution_count": 146,
   "metadata": {},
   "outputs": [
    {
     "data": {
      "text/html": [
       "<div>\n",
       "<style>\n",
       "    .dataframe thead tr:only-child th {\n",
       "        text-align: right;\n",
       "    }\n",
       "\n",
       "    .dataframe thead th {\n",
       "        text-align: left;\n",
       "    }\n",
       "\n",
       "    .dataframe tbody tr th {\n",
       "        vertical-align: top;\n",
       "    }\n",
       "</style>\n",
       "<table border=\"1\" class=\"dataframe\">\n",
       "  <thead>\n",
       "    <tr style=\"text-align: right;\">\n",
       "      <th></th>\n",
       "      <th>a</th>\n",
       "      <th>b</th>\n",
       "    </tr>\n",
       "  </thead>\n",
       "  <tbody>\n",
       "    <tr>\n",
       "      <th>0</th>\n",
       "      <td>1</td>\n",
       "      <td>2</td>\n",
       "    </tr>\n",
       "    <tr>\n",
       "      <th>1</th>\n",
       "      <td>2</td>\n",
       "      <td>3</td>\n",
       "    </tr>\n",
       "    <tr>\n",
       "      <th>2</th>\n",
       "      <td>3</td>\n",
       "      <td>4</td>\n",
       "    </tr>\n",
       "    <tr>\n",
       "      <th>3</th>\n",
       "      <td>4</td>\n",
       "      <td>5</td>\n",
       "    </tr>\n",
       "  </tbody>\n",
       "</table>\n",
       "</div>"
      ],
      "text/plain": [
       "   a  b\n",
       "0  1  2\n",
       "1  2  3\n",
       "2  3  4\n",
       "3  4  5"
      ]
     },
     "execution_count": 146,
     "metadata": {},
     "output_type": "execute_result"
    }
   ],
   "source": [
    "df"
   ]
  },
  {
   "cell_type": "code",
   "execution_count": 147,
   "metadata": {},
   "outputs": [
    {
     "data": {
      "text/plain": [
       "0    1\n",
       "1    2\n",
       "2    3\n",
       "3    4\n",
       "Name: a, dtype: int64"
      ]
     },
     "execution_count": 147,
     "metadata": {},
     "output_type": "execute_result"
    }
   ],
   "source": [
    "df['a']"
   ]
  },
  {
   "cell_type": "code",
   "execution_count": 148,
   "metadata": {},
   "outputs": [
    {
     "data": {
      "text/html": [
       "<div>\n",
       "<style>\n",
       "    .dataframe thead tr:only-child th {\n",
       "        text-align: right;\n",
       "    }\n",
       "\n",
       "    .dataframe thead th {\n",
       "        text-align: left;\n",
       "    }\n",
       "\n",
       "    .dataframe tbody tr th {\n",
       "        vertical-align: top;\n",
       "    }\n",
       "</style>\n",
       "<table border=\"1\" class=\"dataframe\">\n",
       "  <thead>\n",
       "    <tr style=\"text-align: right;\">\n",
       "      <th></th>\n",
       "      <th>a</th>\n",
       "      <th>b</th>\n",
       "    </tr>\n",
       "  </thead>\n",
       "  <tbody>\n",
       "    <tr>\n",
       "      <th>0</th>\n",
       "      <td>1</td>\n",
       "      <td>2</td>\n",
       "    </tr>\n",
       "    <tr>\n",
       "      <th>1</th>\n",
       "      <td>2</td>\n",
       "      <td>3</td>\n",
       "    </tr>\n",
       "    <tr>\n",
       "      <th>2</th>\n",
       "      <td>3</td>\n",
       "      <td>4</td>\n",
       "    </tr>\n",
       "    <tr>\n",
       "      <th>3</th>\n",
       "      <td>4</td>\n",
       "      <td>5</td>\n",
       "    </tr>\n",
       "  </tbody>\n",
       "</table>\n",
       "</div>"
      ],
      "text/plain": [
       "   a  b\n",
       "0  1  2\n",
       "1  2  3\n",
       "2  3  4\n",
       "3  4  5"
      ]
     },
     "execution_count": 148,
     "metadata": {},
     "output_type": "execute_result"
    }
   ],
   "source": [
    "df[['a', 'b']]"
   ]
  },
  {
   "cell_type": "code",
   "execution_count": 149,
   "metadata": {
    "collapsed": true
   },
   "outputs": [],
   "source": [
    "df['c'] = [6,7,8,9] # add a colum from a list"
   ]
  },
  {
   "cell_type": "code",
   "execution_count": 150,
   "metadata": {},
   "outputs": [
    {
     "data": {
      "text/html": [
       "<div>\n",
       "<style>\n",
       "    .dataframe thead tr:only-child th {\n",
       "        text-align: right;\n",
       "    }\n",
       "\n",
       "    .dataframe thead th {\n",
       "        text-align: left;\n",
       "    }\n",
       "\n",
       "    .dataframe tbody tr th {\n",
       "        vertical-align: top;\n",
       "    }\n",
       "</style>\n",
       "<table border=\"1\" class=\"dataframe\">\n",
       "  <thead>\n",
       "    <tr style=\"text-align: right;\">\n",
       "      <th></th>\n",
       "      <th>a</th>\n",
       "      <th>b</th>\n",
       "      <th>c</th>\n",
       "    </tr>\n",
       "  </thead>\n",
       "  <tbody>\n",
       "    <tr>\n",
       "      <th>0</th>\n",
       "      <td>1</td>\n",
       "      <td>2</td>\n",
       "      <td>6</td>\n",
       "    </tr>\n",
       "    <tr>\n",
       "      <th>1</th>\n",
       "      <td>2</td>\n",
       "      <td>3</td>\n",
       "      <td>7</td>\n",
       "    </tr>\n",
       "    <tr>\n",
       "      <th>2</th>\n",
       "      <td>3</td>\n",
       "      <td>4</td>\n",
       "      <td>8</td>\n",
       "    </tr>\n",
       "    <tr>\n",
       "      <th>3</th>\n",
       "      <td>4</td>\n",
       "      <td>5</td>\n",
       "      <td>9</td>\n",
       "    </tr>\n",
       "  </tbody>\n",
       "</table>\n",
       "</div>"
      ],
      "text/plain": [
       "   a  b  c\n",
       "0  1  2  6\n",
       "1  2  3  7\n",
       "2  3  4  8\n",
       "3  4  5  9"
      ]
     },
     "execution_count": 150,
     "metadata": {},
     "output_type": "execute_result"
    }
   ],
   "source": [
    "df"
   ]
  },
  {
   "cell_type": "code",
   "execution_count": 151,
   "metadata": {},
   "outputs": [
    {
     "data": {
      "text/plain": [
       "(4, 3)"
      ]
     },
     "execution_count": 151,
     "metadata": {},
     "output_type": "execute_result"
    }
   ],
   "source": [
    "df.shape"
   ]
  },
  {
   "cell_type": "code",
   "execution_count": 152,
   "metadata": {},
   "outputs": [
    {
     "data": {
      "text/plain": [
       "RangeIndex(start=0, stop=4, step=1)"
      ]
     },
     "execution_count": 152,
     "metadata": {},
     "output_type": "execute_result"
    }
   ],
   "source": [
    "df['a'].index"
   ]
  },
  {
   "cell_type": "code",
   "execution_count": 153,
   "metadata": {},
   "outputs": [
    {
     "data": {
      "text/plain": [
       "0    False\n",
       "1    False\n",
       "2    False\n",
       "3     True\n",
       "Name: a, dtype: bool"
      ]
     },
     "execution_count": 153,
     "metadata": {},
     "output_type": "execute_result"
    }
   ],
   "source": [
    "df['a'] > 3"
   ]
  },
  {
   "cell_type": "code",
   "execution_count": 154,
   "metadata": {},
   "outputs": [
    {
     "data": {
      "text/html": [
       "<div>\n",
       "<style>\n",
       "    .dataframe thead tr:only-child th {\n",
       "        text-align: right;\n",
       "    }\n",
       "\n",
       "    .dataframe thead th {\n",
       "        text-align: left;\n",
       "    }\n",
       "\n",
       "    .dataframe tbody tr th {\n",
       "        vertical-align: top;\n",
       "    }\n",
       "</style>\n",
       "<table border=\"1\" class=\"dataframe\">\n",
       "  <thead>\n",
       "    <tr style=\"text-align: right;\">\n",
       "      <th></th>\n",
       "      <th>a</th>\n",
       "      <th>b</th>\n",
       "      <th>c</th>\n",
       "    </tr>\n",
       "  </thead>\n",
       "  <tbody>\n",
       "    <tr>\n",
       "      <th>3</th>\n",
       "      <td>4</td>\n",
       "      <td>5</td>\n",
       "      <td>9</td>\n",
       "    </tr>\n",
       "  </tbody>\n",
       "</table>\n",
       "</div>"
      ],
      "text/plain": [
       "   a  b  c\n",
       "3  4  5  9"
      ]
     },
     "execution_count": 154,
     "metadata": {},
     "output_type": "execute_result"
    }
   ],
   "source": [
    "df[df['a'] > 3]"
   ]
  },
  {
   "cell_type": "code",
   "execution_count": 156,
   "metadata": {},
   "outputs": [
    {
     "data": {
      "text/html": [
       "<div>\n",
       "<style>\n",
       "    .dataframe thead tr:only-child th {\n",
       "        text-align: right;\n",
       "    }\n",
       "\n",
       "    .dataframe thead th {\n",
       "        text-align: left;\n",
       "    }\n",
       "\n",
       "    .dataframe tbody tr th {\n",
       "        vertical-align: top;\n",
       "    }\n",
       "</style>\n",
       "<table border=\"1\" class=\"dataframe\">\n",
       "  <thead>\n",
       "    <tr style=\"text-align: right;\">\n",
       "      <th></th>\n",
       "      <th>a</th>\n",
       "      <th>b</th>\n",
       "      <th>c</th>\n",
       "    </tr>\n",
       "  </thead>\n",
       "  <tbody>\n",
       "    <tr>\n",
       "      <th>1</th>\n",
       "      <td>2</td>\n",
       "      <td>3</td>\n",
       "      <td>7</td>\n",
       "    </tr>\n",
       "    <tr>\n",
       "      <th>2</th>\n",
       "      <td>3</td>\n",
       "      <td>4</td>\n",
       "      <td>8</td>\n",
       "    </tr>\n",
       "    <tr>\n",
       "      <th>3</th>\n",
       "      <td>4</td>\n",
       "      <td>5</td>\n",
       "      <td>9</td>\n",
       "    </tr>\n",
       "  </tbody>\n",
       "</table>\n",
       "</div>"
      ],
      "text/plain": [
       "   a  b  c\n",
       "1  2  3  7\n",
       "2  3  4  8\n",
       "3  4  5  9"
      ]
     },
     "execution_count": 156,
     "metadata": {},
     "output_type": "execute_result"
    }
   ],
   "source": [
    "df[(df['a'] > 3) | (df['c'] > 6)]"
   ]
  },
  {
   "cell_type": "code",
   "execution_count": 157,
   "metadata": {},
   "outputs": [
    {
     "data": {
      "text/plain": [
       "1    3\n",
       "2    4\n",
       "3    5\n",
       "Name: b, dtype: int64"
      ]
     },
     "execution_count": 157,
     "metadata": {},
     "output_type": "execute_result"
    }
   ],
   "source": [
    "df[(df['a'] > 3) | (df['c'] > 6)]['b']"
   ]
  },
  {
   "cell_type": "code",
   "execution_count": 159,
   "metadata": {},
   "outputs": [
    {
     "data": {
      "text/html": [
       "<div>\n",
       "<style>\n",
       "    .dataframe thead tr:only-child th {\n",
       "        text-align: right;\n",
       "    }\n",
       "\n",
       "    .dataframe thead th {\n",
       "        text-align: left;\n",
       "    }\n",
       "\n",
       "    .dataframe tbody tr th {\n",
       "        vertical-align: top;\n",
       "    }\n",
       "</style>\n",
       "<table border=\"1\" class=\"dataframe\">\n",
       "  <thead>\n",
       "    <tr style=\"text-align: right;\">\n",
       "      <th></th>\n",
       "      <th>c</th>\n",
       "      <th>b</th>\n",
       "    </tr>\n",
       "  </thead>\n",
       "  <tbody>\n",
       "    <tr>\n",
       "      <th>1</th>\n",
       "      <td>7</td>\n",
       "      <td>3</td>\n",
       "    </tr>\n",
       "    <tr>\n",
       "      <th>2</th>\n",
       "      <td>8</td>\n",
       "      <td>4</td>\n",
       "    </tr>\n",
       "    <tr>\n",
       "      <th>3</th>\n",
       "      <td>9</td>\n",
       "      <td>5</td>\n",
       "    </tr>\n",
       "  </tbody>\n",
       "</table>\n",
       "</div>"
      ],
      "text/plain": [
       "   c  b\n",
       "1  7  3\n",
       "2  8  4\n",
       "3  9  5"
      ]
     },
     "execution_count": 159,
     "metadata": {},
     "output_type": "execute_result"
    }
   ],
   "source": [
    "df[(df['a'] > 3) | (df['c'] > 6)][['c', 'b']]"
   ]
  },
  {
   "cell_type": "code",
   "execution_count": 160,
   "metadata": {
    "collapsed": true
   },
   "outputs": [],
   "source": [
    "se = pd.Series([3,4,5], index=[2,3,4])"
   ]
  },
  {
   "cell_type": "code",
   "execution_count": 161,
   "metadata": {},
   "outputs": [
    {
     "data": {
      "text/plain": [
       "2    3\n",
       "3    4\n",
       "4    5\n",
       "dtype: int64"
      ]
     },
     "execution_count": 161,
     "metadata": {},
     "output_type": "execute_result"
    }
   ],
   "source": [
    "se"
   ]
  },
  {
   "cell_type": "code",
   "execution_count": 162,
   "metadata": {
    "collapsed": true
   },
   "outputs": [],
   "source": [
    "df['e'] = se"
   ]
  },
  {
   "cell_type": "code",
   "execution_count": 163,
   "metadata": {},
   "outputs": [
    {
     "data": {
      "text/html": [
       "<div>\n",
       "<style>\n",
       "    .dataframe thead tr:only-child th {\n",
       "        text-align: right;\n",
       "    }\n",
       "\n",
       "    .dataframe thead th {\n",
       "        text-align: left;\n",
       "    }\n",
       "\n",
       "    .dataframe tbody tr th {\n",
       "        vertical-align: top;\n",
       "    }\n",
       "</style>\n",
       "<table border=\"1\" class=\"dataframe\">\n",
       "  <thead>\n",
       "    <tr style=\"text-align: right;\">\n",
       "      <th></th>\n",
       "      <th>a</th>\n",
       "      <th>b</th>\n",
       "      <th>c</th>\n",
       "      <th>e</th>\n",
       "    </tr>\n",
       "  </thead>\n",
       "  <tbody>\n",
       "    <tr>\n",
       "      <th>0</th>\n",
       "      <td>1</td>\n",
       "      <td>2</td>\n",
       "      <td>6</td>\n",
       "      <td>NaN</td>\n",
       "    </tr>\n",
       "    <tr>\n",
       "      <th>1</th>\n",
       "      <td>2</td>\n",
       "      <td>3</td>\n",
       "      <td>7</td>\n",
       "      <td>NaN</td>\n",
       "    </tr>\n",
       "    <tr>\n",
       "      <th>2</th>\n",
       "      <td>3</td>\n",
       "      <td>4</td>\n",
       "      <td>8</td>\n",
       "      <td>3.0</td>\n",
       "    </tr>\n",
       "    <tr>\n",
       "      <th>3</th>\n",
       "      <td>4</td>\n",
       "      <td>5</td>\n",
       "      <td>9</td>\n",
       "      <td>4.0</td>\n",
       "    </tr>\n",
       "  </tbody>\n",
       "</table>\n",
       "</div>"
      ],
      "text/plain": [
       "   a  b  c    e\n",
       "0  1  2  6  NaN\n",
       "1  2  3  7  NaN\n",
       "2  3  4  8  3.0\n",
       "3  4  5  9  4.0"
      ]
     },
     "execution_count": 163,
     "metadata": {},
     "output_type": "execute_result"
    }
   ],
   "source": [
    "df"
   ]
  },
  {
   "cell_type": "code",
   "execution_count": 171,
   "metadata": {},
   "outputs": [
    {
     "data": {
      "text/html": [
       "<div>\n",
       "<style>\n",
       "    .dataframe thead tr:only-child th {\n",
       "        text-align: right;\n",
       "    }\n",
       "\n",
       "    .dataframe thead th {\n",
       "        text-align: left;\n",
       "    }\n",
       "\n",
       "    .dataframe tbody tr th {\n",
       "        vertical-align: top;\n",
       "    }\n",
       "</style>\n",
       "<table border=\"1\" class=\"dataframe\">\n",
       "  <thead>\n",
       "    <tr style=\"text-align: right;\">\n",
       "      <th></th>\n",
       "      <th>a</th>\n",
       "      <th>b</th>\n",
       "      <th>c</th>\n",
       "      <th>e</th>\n",
       "    </tr>\n",
       "  </thead>\n",
       "  <tbody>\n",
       "    <tr>\n",
       "      <th>2</th>\n",
       "      <td>3</td>\n",
       "      <td>4</td>\n",
       "      <td>8</td>\n",
       "      <td>3.0</td>\n",
       "    </tr>\n",
       "    <tr>\n",
       "      <th>3</th>\n",
       "      <td>4</td>\n",
       "      <td>5</td>\n",
       "      <td>9</td>\n",
       "      <td>4.0</td>\n",
       "    </tr>\n",
       "  </tbody>\n",
       "</table>\n",
       "</div>"
      ],
      "text/plain": [
       "   a  b  c    e\n",
       "2  3  4  8  3.0\n",
       "3  4  5  9  4.0"
      ]
     },
     "execution_count": 171,
     "metadata": {},
     "output_type": "execute_result"
    }
   ],
   "source": [
    "df.dropna()"
   ]
  },
  {
   "cell_type": "code",
   "execution_count": 182,
   "metadata": {},
   "outputs": [
    {
     "data": {
      "text/html": [
       "<div>\n",
       "<style>\n",
       "    .dataframe thead tr:only-child th {\n",
       "        text-align: right;\n",
       "    }\n",
       "\n",
       "    .dataframe thead th {\n",
       "        text-align: left;\n",
       "    }\n",
       "\n",
       "    .dataframe tbody tr th {\n",
       "        vertical-align: top;\n",
       "    }\n",
       "</style>\n",
       "<table border=\"1\" class=\"dataframe\">\n",
       "  <thead>\n",
       "    <tr style=\"text-align: right;\">\n",
       "      <th></th>\n",
       "      <th>a</th>\n",
       "      <th>b</th>\n",
       "      <th>c</th>\n",
       "    </tr>\n",
       "  </thead>\n",
       "  <tbody>\n",
       "    <tr>\n",
       "      <th>0</th>\n",
       "      <td>1</td>\n",
       "      <td>2</td>\n",
       "      <td>6</td>\n",
       "    </tr>\n",
       "    <tr>\n",
       "      <th>1</th>\n",
       "      <td>2</td>\n",
       "      <td>3</td>\n",
       "      <td>7</td>\n",
       "    </tr>\n",
       "    <tr>\n",
       "      <th>2</th>\n",
       "      <td>3</td>\n",
       "      <td>4</td>\n",
       "      <td>8</td>\n",
       "    </tr>\n",
       "    <tr>\n",
       "      <th>3</th>\n",
       "      <td>4</td>\n",
       "      <td>5</td>\n",
       "      <td>9</td>\n",
       "    </tr>\n",
       "  </tbody>\n",
       "</table>\n",
       "</div>"
      ],
      "text/plain": [
       "   a  b  c\n",
       "0  1  2  6\n",
       "1  2  3  7\n",
       "2  3  4  8\n",
       "3  4  5  9"
      ]
     },
     "execution_count": 182,
     "metadata": {},
     "output_type": "execute_result"
    }
   ],
   "source": [
    "df.dropna(axis=1, thresh=3)"
   ]
  },
  {
   "cell_type": "code",
   "execution_count": 186,
   "metadata": {},
   "outputs": [
    {
     "data": {
      "text/html": [
       "<div>\n",
       "<style>\n",
       "    .dataframe thead tr:only-child th {\n",
       "        text-align: right;\n",
       "    }\n",
       "\n",
       "    .dataframe thead th {\n",
       "        text-align: left;\n",
       "    }\n",
       "\n",
       "    .dataframe tbody tr th {\n",
       "        vertical-align: top;\n",
       "    }\n",
       "</style>\n",
       "<table border=\"1\" class=\"dataframe\">\n",
       "  <thead>\n",
       "    <tr style=\"text-align: right;\">\n",
       "      <th></th>\n",
       "      <th>a</th>\n",
       "      <th>b</th>\n",
       "      <th>c</th>\n",
       "      <th>e</th>\n",
       "    </tr>\n",
       "  </thead>\n",
       "  <tbody>\n",
       "    <tr>\n",
       "      <th>0</th>\n",
       "      <td>1</td>\n",
       "      <td>2</td>\n",
       "      <td>6</td>\n",
       "      <td>NaN</td>\n",
       "    </tr>\n",
       "    <tr>\n",
       "      <th>1</th>\n",
       "      <td>2</td>\n",
       "      <td>3</td>\n",
       "      <td>7</td>\n",
       "      <td>NaN</td>\n",
       "    </tr>\n",
       "    <tr>\n",
       "      <th>2</th>\n",
       "      <td>3</td>\n",
       "      <td>4</td>\n",
       "      <td>8</td>\n",
       "      <td>3.0</td>\n",
       "    </tr>\n",
       "    <tr>\n",
       "      <th>3</th>\n",
       "      <td>4</td>\n",
       "      <td>5</td>\n",
       "      <td>9</td>\n",
       "      <td>4.0</td>\n",
       "    </tr>\n",
       "  </tbody>\n",
       "</table>\n",
       "</div>"
      ],
      "text/plain": [
       "   a  b  c    e\n",
       "0  1  2  6  NaN\n",
       "1  2  3  7  NaN\n",
       "2  3  4  8  3.0\n",
       "3  4  5  9  4.0"
      ]
     },
     "execution_count": 186,
     "metadata": {},
     "output_type": "execute_result"
    }
   ],
   "source": [
    "df"
   ]
  },
  {
   "cell_type": "code",
   "execution_count": 189,
   "metadata": {
    "collapsed": true
   },
   "outputs": [],
   "source": [
    "df2 = pd.DataFrame([[2,3,4], [2,3,4]])"
   ]
  },
  {
   "cell_type": "code",
   "execution_count": 190,
   "metadata": {},
   "outputs": [
    {
     "data": {
      "text/html": [
       "<div>\n",
       "<style>\n",
       "    .dataframe thead tr:only-child th {\n",
       "        text-align: right;\n",
       "    }\n",
       "\n",
       "    .dataframe thead th {\n",
       "        text-align: left;\n",
       "    }\n",
       "\n",
       "    .dataframe tbody tr th {\n",
       "        vertical-align: top;\n",
       "    }\n",
       "</style>\n",
       "<table border=\"1\" class=\"dataframe\">\n",
       "  <thead>\n",
       "    <tr style=\"text-align: right;\">\n",
       "      <th></th>\n",
       "      <th>0</th>\n",
       "      <th>1</th>\n",
       "      <th>2</th>\n",
       "    </tr>\n",
       "  </thead>\n",
       "  <tbody>\n",
       "    <tr>\n",
       "      <th>0</th>\n",
       "      <td>2</td>\n",
       "      <td>3</td>\n",
       "      <td>4</td>\n",
       "    </tr>\n",
       "    <tr>\n",
       "      <th>1</th>\n",
       "      <td>2</td>\n",
       "      <td>3</td>\n",
       "      <td>4</td>\n",
       "    </tr>\n",
       "  </tbody>\n",
       "</table>\n",
       "</div>"
      ],
      "text/plain": [
       "   0  1  2\n",
       "0  2  3  4\n",
       "1  2  3  4"
      ]
     },
     "execution_count": 190,
     "metadata": {},
     "output_type": "execute_result"
    }
   ],
   "source": [
    "df2"
   ]
  },
  {
   "cell_type": "code",
   "execution_count": 191,
   "metadata": {},
   "outputs": [
    {
     "data": {
      "text/html": [
       "<div>\n",
       "<style>\n",
       "    .dataframe thead tr:only-child th {\n",
       "        text-align: right;\n",
       "    }\n",
       "\n",
       "    .dataframe thead th {\n",
       "        text-align: left;\n",
       "    }\n",
       "\n",
       "    .dataframe tbody tr th {\n",
       "        vertical-align: top;\n",
       "    }\n",
       "</style>\n",
       "<table border=\"1\" class=\"dataframe\">\n",
       "  <thead>\n",
       "    <tr style=\"text-align: right;\">\n",
       "      <th></th>\n",
       "      <th>0</th>\n",
       "      <th>1</th>\n",
       "      <th>2</th>\n",
       "    </tr>\n",
       "  </thead>\n",
       "  <tbody>\n",
       "    <tr>\n",
       "      <th>0</th>\n",
       "      <td>2</td>\n",
       "      <td>3</td>\n",
       "      <td>4</td>\n",
       "    </tr>\n",
       "  </tbody>\n",
       "</table>\n",
       "</div>"
      ],
      "text/plain": [
       "   0  1  2\n",
       "0  2  3  4"
      ]
     },
     "execution_count": 191,
     "metadata": {},
     "output_type": "execute_result"
    }
   ],
   "source": [
    "df2.drop_duplicates()"
   ]
  },
  {
   "cell_type": "code",
   "execution_count": 192,
   "metadata": {
    "collapsed": true
   },
   "outputs": [],
   "source": [
    "df2.drop_duplicates?"
   ]
  },
  {
   "cell_type": "code",
   "execution_count": 193,
   "metadata": {
    "collapsed": true
   },
   "outputs": [],
   "source": [
    "df3 = pd.DataFrame([[2,1,4], [2,3,4]])"
   ]
  },
  {
   "cell_type": "code",
   "execution_count": 194,
   "metadata": {},
   "outputs": [
    {
     "data": {
      "text/html": [
       "<div>\n",
       "<style>\n",
       "    .dataframe thead tr:only-child th {\n",
       "        text-align: right;\n",
       "    }\n",
       "\n",
       "    .dataframe thead th {\n",
       "        text-align: left;\n",
       "    }\n",
       "\n",
       "    .dataframe tbody tr th {\n",
       "        vertical-align: top;\n",
       "    }\n",
       "</style>\n",
       "<table border=\"1\" class=\"dataframe\">\n",
       "  <thead>\n",
       "    <tr style=\"text-align: right;\">\n",
       "      <th></th>\n",
       "      <th>0</th>\n",
       "      <th>1</th>\n",
       "      <th>2</th>\n",
       "    </tr>\n",
       "  </thead>\n",
       "  <tbody>\n",
       "    <tr>\n",
       "      <th>0</th>\n",
       "      <td>2</td>\n",
       "      <td>1</td>\n",
       "      <td>4</td>\n",
       "    </tr>\n",
       "    <tr>\n",
       "      <th>1</th>\n",
       "      <td>2</td>\n",
       "      <td>3</td>\n",
       "      <td>4</td>\n",
       "    </tr>\n",
       "  </tbody>\n",
       "</table>\n",
       "</div>"
      ],
      "text/plain": [
       "   0  1  2\n",
       "0  2  1  4\n",
       "1  2  3  4"
      ]
     },
     "execution_count": 194,
     "metadata": {},
     "output_type": "execute_result"
    }
   ],
   "source": [
    "df3"
   ]
  },
  {
   "cell_type": "code",
   "execution_count": 195,
   "metadata": {},
   "outputs": [
    {
     "data": {
      "text/html": [
       "<div>\n",
       "<style>\n",
       "    .dataframe thead tr:only-child th {\n",
       "        text-align: right;\n",
       "    }\n",
       "\n",
       "    .dataframe thead th {\n",
       "        text-align: left;\n",
       "    }\n",
       "\n",
       "    .dataframe tbody tr th {\n",
       "        vertical-align: top;\n",
       "    }\n",
       "</style>\n",
       "<table border=\"1\" class=\"dataframe\">\n",
       "  <thead>\n",
       "    <tr style=\"text-align: right;\">\n",
       "      <th></th>\n",
       "      <th>0</th>\n",
       "      <th>1</th>\n",
       "      <th>2</th>\n",
       "    </tr>\n",
       "  </thead>\n",
       "  <tbody>\n",
       "    <tr>\n",
       "      <th>0</th>\n",
       "      <td>2</td>\n",
       "      <td>1</td>\n",
       "      <td>4</td>\n",
       "    </tr>\n",
       "  </tbody>\n",
       "</table>\n",
       "</div>"
      ],
      "text/plain": [
       "   0  1  2\n",
       "0  2  1  4"
      ]
     },
     "execution_count": 195,
     "metadata": {},
     "output_type": "execute_result"
    }
   ],
   "source": [
    "df3.drop_duplicates(subset=[0,2])"
   ]
  },
  {
   "cell_type": "code",
   "execution_count": 199,
   "metadata": {},
   "outputs": [
    {
     "data": {
      "text/html": [
       "<div>\n",
       "<style>\n",
       "    .dataframe thead tr:only-child th {\n",
       "        text-align: right;\n",
       "    }\n",
       "\n",
       "    .dataframe thead th {\n",
       "        text-align: left;\n",
       "    }\n",
       "\n",
       "    .dataframe tbody tr th {\n",
       "        vertical-align: top;\n",
       "    }\n",
       "</style>\n",
       "<table border=\"1\" class=\"dataframe\">\n",
       "  <thead>\n",
       "    <tr style=\"text-align: right;\">\n",
       "      <th></th>\n",
       "      <th>a</th>\n",
       "      <th>b</th>\n",
       "      <th>c</th>\n",
       "      <th>e</th>\n",
       "    </tr>\n",
       "  </thead>\n",
       "  <tbody>\n",
       "    <tr>\n",
       "      <th>0</th>\n",
       "      <td>1</td>\n",
       "      <td>2</td>\n",
       "      <td>6</td>\n",
       "      <td>3.0</td>\n",
       "    </tr>\n",
       "    <tr>\n",
       "      <th>1</th>\n",
       "      <td>2</td>\n",
       "      <td>3</td>\n",
       "      <td>7</td>\n",
       "      <td>3.0</td>\n",
       "    </tr>\n",
       "    <tr>\n",
       "      <th>2</th>\n",
       "      <td>3</td>\n",
       "      <td>4</td>\n",
       "      <td>8</td>\n",
       "      <td>3.0</td>\n",
       "    </tr>\n",
       "    <tr>\n",
       "      <th>3</th>\n",
       "      <td>4</td>\n",
       "      <td>5</td>\n",
       "      <td>9</td>\n",
       "      <td>4.0</td>\n",
       "    </tr>\n",
       "  </tbody>\n",
       "</table>\n",
       "</div>"
      ],
      "text/plain": [
       "   a  b  c    e\n",
       "0  1  2  6  3.0\n",
       "1  2  3  7  3.0\n",
       "2  3  4  8  3.0\n",
       "3  4  5  9  4.0"
      ]
     },
     "execution_count": 199,
     "metadata": {},
     "output_type": "execute_result"
    }
   ],
   "source": [
    "df.fillna(method='backfill')"
   ]
  },
  {
   "cell_type": "code",
   "execution_count": 200,
   "metadata": {},
   "outputs": [
    {
     "data": {
      "text/html": [
       "<div>\n",
       "<style>\n",
       "    .dataframe thead tr:only-child th {\n",
       "        text-align: right;\n",
       "    }\n",
       "\n",
       "    .dataframe thead th {\n",
       "        text-align: left;\n",
       "    }\n",
       "\n",
       "    .dataframe tbody tr th {\n",
       "        vertical-align: top;\n",
       "    }\n",
       "</style>\n",
       "<table border=\"1\" class=\"dataframe\">\n",
       "  <thead>\n",
       "    <tr style=\"text-align: right;\">\n",
       "      <th></th>\n",
       "      <th>a</th>\n",
       "      <th>b</th>\n",
       "      <th>c</th>\n",
       "      <th>e</th>\n",
       "    </tr>\n",
       "  </thead>\n",
       "  <tbody>\n",
       "    <tr>\n",
       "      <th>count</th>\n",
       "      <td>4.000000</td>\n",
       "      <td>4.000000</td>\n",
       "      <td>4.000000</td>\n",
       "      <td>2.000000</td>\n",
       "    </tr>\n",
       "    <tr>\n",
       "      <th>mean</th>\n",
       "      <td>2.500000</td>\n",
       "      <td>3.500000</td>\n",
       "      <td>7.500000</td>\n",
       "      <td>3.500000</td>\n",
       "    </tr>\n",
       "    <tr>\n",
       "      <th>std</th>\n",
       "      <td>1.290994</td>\n",
       "      <td>1.290994</td>\n",
       "      <td>1.290994</td>\n",
       "      <td>0.707107</td>\n",
       "    </tr>\n",
       "    <tr>\n",
       "      <th>min</th>\n",
       "      <td>1.000000</td>\n",
       "      <td>2.000000</td>\n",
       "      <td>6.000000</td>\n",
       "      <td>3.000000</td>\n",
       "    </tr>\n",
       "    <tr>\n",
       "      <th>25%</th>\n",
       "      <td>1.750000</td>\n",
       "      <td>2.750000</td>\n",
       "      <td>6.750000</td>\n",
       "      <td>3.250000</td>\n",
       "    </tr>\n",
       "    <tr>\n",
       "      <th>50%</th>\n",
       "      <td>2.500000</td>\n",
       "      <td>3.500000</td>\n",
       "      <td>7.500000</td>\n",
       "      <td>3.500000</td>\n",
       "    </tr>\n",
       "    <tr>\n",
       "      <th>75%</th>\n",
       "      <td>3.250000</td>\n",
       "      <td>4.250000</td>\n",
       "      <td>8.250000</td>\n",
       "      <td>3.750000</td>\n",
       "    </tr>\n",
       "    <tr>\n",
       "      <th>max</th>\n",
       "      <td>4.000000</td>\n",
       "      <td>5.000000</td>\n",
       "      <td>9.000000</td>\n",
       "      <td>4.000000</td>\n",
       "    </tr>\n",
       "  </tbody>\n",
       "</table>\n",
       "</div>"
      ],
      "text/plain": [
       "              a         b         c         e\n",
       "count  4.000000  4.000000  4.000000  2.000000\n",
       "mean   2.500000  3.500000  7.500000  3.500000\n",
       "std    1.290994  1.290994  1.290994  0.707107\n",
       "min    1.000000  2.000000  6.000000  3.000000\n",
       "25%    1.750000  2.750000  6.750000  3.250000\n",
       "50%    2.500000  3.500000  7.500000  3.500000\n",
       "75%    3.250000  4.250000  8.250000  3.750000\n",
       "max    4.000000  5.000000  9.000000  4.000000"
      ]
     },
     "execution_count": 200,
     "metadata": {},
     "output_type": "execute_result"
    }
   ],
   "source": [
    "df.describe()"
   ]
  },
  {
   "cell_type": "markdown",
   "metadata": {},
   "source": [
    "### BMI project"
   ]
  },
  {
   "cell_type": "markdown",
   "metadata": {},
   "source": [
    "Load data from the Internet"
   ]
  },
  {
   "cell_type": "code",
   "execution_count": 258,
   "metadata": {
    "collapsed": true
   },
   "outputs": [],
   "source": [
    "import urllib2\n",
    "# data = pd.read_csv('sample1.csv') # local file\n",
    "data = pd.read_csv(urllib2.urlopen('https://raw.githubusercontent.com/likit/training-2017-08-01-prince-songkhla/master/sample1.csv'))\n",
    "\n"
   ]
  },
  {
   "cell_type": "code",
   "execution_count": 259,
   "metadata": {},
   "outputs": [
    {
     "data": {
      "text/html": [
       "<div>\n",
       "<style>\n",
       "    .dataframe thead tr:only-child th {\n",
       "        text-align: right;\n",
       "    }\n",
       "\n",
       "    .dataframe thead th {\n",
       "        text-align: left;\n",
       "    }\n",
       "\n",
       "    .dataframe tbody tr th {\n",
       "        vertical-align: top;\n",
       "    }\n",
       "</style>\n",
       "<table border=\"1\" class=\"dataframe\">\n",
       "  <thead>\n",
       "    <tr style=\"text-align: right;\">\n",
       "      <th></th>\n",
       "      <th>id</th>\n",
       "      <th>first_name</th>\n",
       "      <th>last_name</th>\n",
       "      <th>gender</th>\n",
       "      <th>weight</th>\n",
       "      <th>height</th>\n",
       "    </tr>\n",
       "  </thead>\n",
       "  <tbody>\n",
       "    <tr>\n",
       "      <th>0</th>\n",
       "      <td>289-90-0980</td>\n",
       "      <td>Shirley</td>\n",
       "      <td>Baylay</td>\n",
       "      <td>Female</td>\n",
       "      <td>82.22</td>\n",
       "      <td>169.09</td>\n",
       "    </tr>\n",
       "    <tr>\n",
       "      <th>1</th>\n",
       "      <td>709-24-2905</td>\n",
       "      <td>Beltran</td>\n",
       "      <td>Olczyk</td>\n",
       "      <td>Male</td>\n",
       "      <td>91.43</td>\n",
       "      <td>172.48</td>\n",
       "    </tr>\n",
       "    <tr>\n",
       "      <th>2</th>\n",
       "      <td>408-48-6169</td>\n",
       "      <td>Gussie</td>\n",
       "      <td>Wenban</td>\n",
       "      <td>Female</td>\n",
       "      <td>74.12</td>\n",
       "      <td>168.62</td>\n",
       "    </tr>\n",
       "    <tr>\n",
       "      <th>3</th>\n",
       "      <td>576-36-5194</td>\n",
       "      <td>Fernando</td>\n",
       "      <td>Bettenson</td>\n",
       "      <td>Male</td>\n",
       "      <td>86.62</td>\n",
       "      <td>174.42</td>\n",
       "    </tr>\n",
       "    <tr>\n",
       "      <th>4</th>\n",
       "      <td>124-96-2199</td>\n",
       "      <td>Rikki</td>\n",
       "      <td>Bruckman</td>\n",
       "      <td>Female</td>\n",
       "      <td>55.01</td>\n",
       "      <td>185.57</td>\n",
       "    </tr>\n",
       "  </tbody>\n",
       "</table>\n",
       "</div>"
      ],
      "text/plain": [
       "            id first_name  last_name  gender  weight  height\n",
       "0  289-90-0980    Shirley     Baylay  Female   82.22  169.09\n",
       "1  709-24-2905    Beltran     Olczyk    Male   91.43  172.48\n",
       "2  408-48-6169     Gussie     Wenban  Female   74.12  168.62\n",
       "3  576-36-5194   Fernando  Bettenson    Male   86.62  174.42\n",
       "4  124-96-2199      Rikki   Bruckman  Female   55.01  185.57"
      ]
     },
     "execution_count": 259,
     "metadata": {},
     "output_type": "execute_result"
    }
   ],
   "source": [
    "data.head()"
   ]
  },
  {
   "cell_type": "code",
   "execution_count": 203,
   "metadata": {},
   "outputs": [
    {
     "data": {
      "text/html": [
       "<div>\n",
       "<style>\n",
       "    .dataframe thead tr:only-child th {\n",
       "        text-align: right;\n",
       "    }\n",
       "\n",
       "    .dataframe thead th {\n",
       "        text-align: left;\n",
       "    }\n",
       "\n",
       "    .dataframe tbody tr th {\n",
       "        vertical-align: top;\n",
       "    }\n",
       "</style>\n",
       "<table border=\"1\" class=\"dataframe\">\n",
       "  <thead>\n",
       "    <tr style=\"text-align: right;\">\n",
       "      <th></th>\n",
       "      <th>weight</th>\n",
       "      <th>height</th>\n",
       "    </tr>\n",
       "  </thead>\n",
       "  <tbody>\n",
       "    <tr>\n",
       "      <th>count</th>\n",
       "      <td>984.000000</td>\n",
       "      <td>984.000000</td>\n",
       "    </tr>\n",
       "    <tr>\n",
       "      <th>mean</th>\n",
       "      <td>77.021657</td>\n",
       "      <td>170.823425</td>\n",
       "    </tr>\n",
       "    <tr>\n",
       "      <th>std</th>\n",
       "      <td>19.040813</td>\n",
       "      <td>11.235683</td>\n",
       "    </tr>\n",
       "    <tr>\n",
       "      <th>min</th>\n",
       "      <td>45.060000</td>\n",
       "      <td>150.030000</td>\n",
       "    </tr>\n",
       "    <tr>\n",
       "      <th>25%</th>\n",
       "      <td>60.777500</td>\n",
       "      <td>161.330000</td>\n",
       "    </tr>\n",
       "    <tr>\n",
       "      <th>50%</th>\n",
       "      <td>77.120000</td>\n",
       "      <td>171.680000</td>\n",
       "    </tr>\n",
       "    <tr>\n",
       "      <th>75%</th>\n",
       "      <td>92.755000</td>\n",
       "      <td>180.185000</td>\n",
       "    </tr>\n",
       "    <tr>\n",
       "      <th>max</th>\n",
       "      <td>109.970000</td>\n",
       "      <td>189.890000</td>\n",
       "    </tr>\n",
       "  </tbody>\n",
       "</table>\n",
       "</div>"
      ],
      "text/plain": [
       "           weight      height\n",
       "count  984.000000  984.000000\n",
       "mean    77.021657  170.823425\n",
       "std     19.040813   11.235683\n",
       "min     45.060000  150.030000\n",
       "25%     60.777500  161.330000\n",
       "50%     77.120000  171.680000\n",
       "75%     92.755000  180.185000\n",
       "max    109.970000  189.890000"
      ]
     },
     "execution_count": 203,
     "metadata": {},
     "output_type": "execute_result"
    }
   ],
   "source": [
    "data.describe()"
   ]
  },
  {
   "cell_type": "code",
   "execution_count": 204,
   "metadata": {},
   "outputs": [
    {
     "data": {
      "text/plain": [
       "(1000, 6)"
      ]
     },
     "execution_count": 204,
     "metadata": {},
     "output_type": "execute_result"
    }
   ],
   "source": [
    "data.shape"
   ]
  },
  {
   "cell_type": "code",
   "execution_count": 205,
   "metadata": {},
   "outputs": [
    {
     "data": {
      "text/plain": [
       "Index([u'id', u'first_name', u'last_name', u'gender', u'weight', u'height'], dtype='object')"
      ]
     },
     "execution_count": 205,
     "metadata": {},
     "output_type": "execute_result"
    }
   ],
   "source": [
    "data.columns"
   ]
  },
  {
   "cell_type": "code",
   "execution_count": 207,
   "metadata": {},
   "outputs": [
    {
     "data": {
      "text/html": [
       "<div>\n",
       "<style>\n",
       "    .dataframe thead tr:only-child th {\n",
       "        text-align: right;\n",
       "    }\n",
       "\n",
       "    .dataframe thead th {\n",
       "        text-align: left;\n",
       "    }\n",
       "\n",
       "    .dataframe tbody tr th {\n",
       "        vertical-align: top;\n",
       "    }\n",
       "</style>\n",
       "<table border=\"1\" class=\"dataframe\">\n",
       "  <thead>\n",
       "    <tr style=\"text-align: right;\">\n",
       "      <th></th>\n",
       "      <th>first_name</th>\n",
       "      <th>last_name</th>\n",
       "      <th>gender</th>\n",
       "    </tr>\n",
       "  </thead>\n",
       "  <tbody>\n",
       "    <tr>\n",
       "      <th>0</th>\n",
       "      <td>Shirley</td>\n",
       "      <td>Baylay</td>\n",
       "      <td>Female</td>\n",
       "    </tr>\n",
       "    <tr>\n",
       "      <th>1</th>\n",
       "      <td>Beltran</td>\n",
       "      <td>Olczyk</td>\n",
       "      <td>Male</td>\n",
       "    </tr>\n",
       "    <tr>\n",
       "      <th>2</th>\n",
       "      <td>Gussie</td>\n",
       "      <td>Wenban</td>\n",
       "      <td>Female</td>\n",
       "    </tr>\n",
       "    <tr>\n",
       "      <th>3</th>\n",
       "      <td>Fernando</td>\n",
       "      <td>Bettenson</td>\n",
       "      <td>Male</td>\n",
       "    </tr>\n",
       "    <tr>\n",
       "      <th>4</th>\n",
       "      <td>Rikki</td>\n",
       "      <td>Bruckman</td>\n",
       "      <td>Female</td>\n",
       "    </tr>\n",
       "  </tbody>\n",
       "</table>\n",
       "</div>"
      ],
      "text/plain": [
       "  first_name  last_name  gender\n",
       "0    Shirley     Baylay  Female\n",
       "1    Beltran     Olczyk    Male\n",
       "2     Gussie     Wenban  Female\n",
       "3   Fernando  Bettenson    Male\n",
       "4      Rikki   Bruckman  Female"
      ]
     },
     "execution_count": 207,
     "metadata": {},
     "output_type": "execute_result"
    }
   ],
   "source": [
    "data[['first_name', 'last_name', 'gender']].head()"
   ]
  },
  {
   "cell_type": "code",
   "execution_count": 213,
   "metadata": {},
   "outputs": [
    {
     "data": {
      "text/plain": [
       "Male      521\n",
       "Female    479\n",
       "Name: gender, dtype: int64"
      ]
     },
     "execution_count": 213,
     "metadata": {},
     "output_type": "execute_result"
    }
   ],
   "source": [
    "data['gender'].value_counts()"
   ]
  },
  {
   "cell_type": "code",
   "execution_count": 214,
   "metadata": {},
   "outputs": [
    {
     "data": {
      "text/plain": [
       "Male      52.1\n",
       "Female    47.9\n",
       "Name: gender, dtype: float64"
      ]
     },
     "execution_count": 214,
     "metadata": {},
     "output_type": "execute_result"
    }
   ],
   "source": [
    "data['gender'].value_counts() / len(data)*100.0"
   ]
  },
  {
   "cell_type": "code",
   "execution_count": 218,
   "metadata": {},
   "outputs": [
    {
     "data": {
      "text/plain": [
       "Fearnehough    2\n",
       "Adriani        2\n",
       "Gipp           2\n",
       "Bold           2\n",
       "Wheeliker      2\n",
       "Spiers         2\n",
       "Suggey         2\n",
       "Hyndman        2\n",
       "Pepall         1\n",
       "Abdie          1\n",
       "Otham          1\n",
       "Bunhill        1\n",
       "Grumell        1\n",
       "Nelle          1\n",
       "Ryde           1\n",
       "Seamons        1\n",
       "Vasler         1\n",
       "Buxey          1\n",
       "Wolfindale     1\n",
       "Downham        1\n",
       "Gude           1\n",
       "Rathbone       1\n",
       "Beevis         1\n",
       "Hodgin         1\n",
       "McAvin         1\n",
       "Maskrey        1\n",
       "Oertzen        1\n",
       "Dresser        1\n",
       "Hembry         1\n",
       "Hinkensen      1\n",
       "              ..\n",
       "MacIlurick     1\n",
       "Trevon         1\n",
       "Burgin         1\n",
       "Bravington     1\n",
       "Dirand         1\n",
       "Bodycombe      1\n",
       "Ellis          1\n",
       "Mallan         1\n",
       "Romeuf         1\n",
       "D'Aguanno      1\n",
       "Hourigan       1\n",
       "Boreland       1\n",
       "Tanzer         1\n",
       "Causey         1\n",
       "Gandrich       1\n",
       "Pohls          1\n",
       "Cobbald        1\n",
       "Larrett        1\n",
       "Mazzia         1\n",
       "Conklin        1\n",
       "Atmore         1\n",
       "Simionescu     1\n",
       "Haldenby       1\n",
       "McQuirter      1\n",
       "Kiffin         1\n",
       "Bartram        1\n",
       "Sumpter        1\n",
       "Byers          1\n",
       "Baylay         1\n",
       "Taks           1\n",
       "Name: last_name, Length: 992, dtype: int64"
      ]
     },
     "execution_count": 218,
     "metadata": {},
     "output_type": "execute_result"
    }
   ],
   "source": [
    "data['last_name'].value_counts()"
   ]
  },
  {
   "cell_type": "code",
   "execution_count": 228,
   "metadata": {},
   "outputs": [
    {
     "data": {
      "text/plain": [
       "16"
      ]
     },
     "execution_count": 228,
     "metadata": {},
     "output_type": "execute_result"
    }
   ],
   "source": [
    "len(data[data['weight'].isnull()])"
   ]
  },
  {
   "cell_type": "code",
   "execution_count": 227,
   "metadata": {},
   "outputs": [
    {
     "data": {
      "text/plain": [
       "id            984\n",
       "first_name    984\n",
       "last_name     984\n",
       "gender        984\n",
       "weight        984\n",
       "height        984\n",
       "dtype: int64"
      ]
     },
     "execution_count": 227,
     "metadata": {},
     "output_type": "execute_result"
    }
   ],
   "source": [
    "data.dropna().count()"
   ]
  },
  {
   "cell_type": "markdown",
   "metadata": {},
   "source": [
    "Remove missing values."
   ]
  },
  {
   "cell_type": "code",
   "execution_count": 260,
   "metadata": {
    "collapsed": true
   },
   "outputs": [],
   "source": [
    "cln_data = data.dropna()"
   ]
  },
  {
   "cell_type": "code",
   "execution_count": 261,
   "metadata": {},
   "outputs": [
    {
     "data": {
      "text/plain": [
       "id            984\n",
       "first_name    984\n",
       "last_name     984\n",
       "gender        984\n",
       "weight        984\n",
       "height        984\n",
       "dtype: int64"
      ]
     },
     "execution_count": 261,
     "metadata": {},
     "output_type": "execute_result"
    }
   ],
   "source": [
    "cln_data.count()"
   ]
  },
  {
   "cell_type": "markdown",
   "metadata": {},
   "source": [
    "Save data to files."
   ]
  },
  {
   "cell_type": "code",
   "execution_count": 231,
   "metadata": {
    "collapsed": true
   },
   "outputs": [],
   "source": [
    "cln_data.to_csv('cleaned_sample.csv')"
   ]
  },
  {
   "cell_type": "code",
   "execution_count": 232,
   "metadata": {
    "collapsed": true
   },
   "outputs": [],
   "source": [
    "data.to_csv('raw_sample.csv')"
   ]
  },
  {
   "cell_type": "code",
   "execution_count": 264,
   "metadata": {},
   "outputs": [],
   "source": [
    "cln_data.loc[:,'height_meter'] = cln_data['height'] / 100.0"
   ]
  },
  {
   "cell_type": "code",
   "execution_count": 255,
   "metadata": {},
   "outputs": [
    {
     "data": {
      "text/html": [
       "<div>\n",
       "<style>\n",
       "    .dataframe thead tr:only-child th {\n",
       "        text-align: right;\n",
       "    }\n",
       "\n",
       "    .dataframe thead th {\n",
       "        text-align: left;\n",
       "    }\n",
       "\n",
       "    .dataframe tbody tr th {\n",
       "        vertical-align: top;\n",
       "    }\n",
       "</style>\n",
       "<table border=\"1\" class=\"dataframe\">\n",
       "  <thead>\n",
       "    <tr style=\"text-align: right;\">\n",
       "      <th></th>\n",
       "      <th>first_name</th>\n",
       "      <th>height_meter</th>\n",
       "    </tr>\n",
       "  </thead>\n",
       "  <tbody>\n",
       "    <tr>\n",
       "      <th>20</th>\n",
       "      <td>Yvette</td>\n",
       "      <td>1.6827</td>\n",
       "    </tr>\n",
       "    <tr>\n",
       "      <th>21</th>\n",
       "      <td>Corina</td>\n",
       "      <td>1.8111</td>\n",
       "    </tr>\n",
       "    <tr>\n",
       "      <th>22</th>\n",
       "      <td>Emile</td>\n",
       "      <td>1.8213</td>\n",
       "    </tr>\n",
       "    <tr>\n",
       "      <th>23</th>\n",
       "      <td>Lombard</td>\n",
       "      <td>1.5518</td>\n",
       "    </tr>\n",
       "    <tr>\n",
       "      <th>24</th>\n",
       "      <td>Selig</td>\n",
       "      <td>1.7660</td>\n",
       "    </tr>\n",
       "    <tr>\n",
       "      <th>25</th>\n",
       "      <td>Skipton</td>\n",
       "      <td>1.7825</td>\n",
       "    </tr>\n",
       "  </tbody>\n",
       "</table>\n",
       "</div>"
      ],
      "text/plain": [
       "   first_name  height_meter\n",
       "20     Yvette        1.6827\n",
       "21     Corina        1.8111\n",
       "22      Emile        1.8213\n",
       "23    Lombard        1.5518\n",
       "24      Selig        1.7660\n",
       "25    Skipton        1.7825"
      ]
     },
     "execution_count": 255,
     "metadata": {},
     "output_type": "execute_result"
    }
   ],
   "source": [
    "cln_data.loc[20:25, ['first_name', 'height_meter']]"
   ]
  },
  {
   "cell_type": "code",
   "execution_count": 266,
   "metadata": {},
   "outputs": [],
   "source": [
    "cln_data.loc[:, 'bmi'] = cln_data['weight'] / cln_data['height_meter']**2"
   ]
  },
  {
   "cell_type": "code",
   "execution_count": 250,
   "metadata": {},
   "outputs": [
    {
     "data": {
      "text/html": [
       "<div>\n",
       "<style>\n",
       "    .dataframe thead tr:only-child th {\n",
       "        text-align: right;\n",
       "    }\n",
       "\n",
       "    .dataframe thead th {\n",
       "        text-align: left;\n",
       "    }\n",
       "\n",
       "    .dataframe tbody tr th {\n",
       "        vertical-align: top;\n",
       "    }\n",
       "</style>\n",
       "<table border=\"1\" class=\"dataframe\">\n",
       "  <thead>\n",
       "    <tr style=\"text-align: right;\">\n",
       "      <th></th>\n",
       "      <th>first_name</th>\n",
       "      <th>last_name</th>\n",
       "      <th>bmi</th>\n",
       "    </tr>\n",
       "  </thead>\n",
       "  <tbody>\n",
       "    <tr>\n",
       "      <th>0</th>\n",
       "      <td>Shirley</td>\n",
       "      <td>Baylay</td>\n",
       "      <td>28.756871</td>\n",
       "    </tr>\n",
       "    <tr>\n",
       "      <th>1</th>\n",
       "      <td>Beltran</td>\n",
       "      <td>Olczyk</td>\n",
       "      <td>30.733444</td>\n",
       "    </tr>\n",
       "    <tr>\n",
       "      <th>2</th>\n",
       "      <td>Gussie</td>\n",
       "      <td>Wenban</td>\n",
       "      <td>26.068572</td>\n",
       "    </tr>\n",
       "    <tr>\n",
       "      <th>3</th>\n",
       "      <td>Fernando</td>\n",
       "      <td>Bettenson</td>\n",
       "      <td>28.472501</td>\n",
       "    </tr>\n",
       "    <tr>\n",
       "      <th>4</th>\n",
       "      <td>Rikki</td>\n",
       "      <td>Bruckman</td>\n",
       "      <td>15.974457</td>\n",
       "    </tr>\n",
       "  </tbody>\n",
       "</table>\n",
       "</div>"
      ],
      "text/plain": [
       "  first_name  last_name        bmi\n",
       "0    Shirley     Baylay  28.756871\n",
       "1    Beltran     Olczyk  30.733444\n",
       "2     Gussie     Wenban  26.068572\n",
       "3   Fernando  Bettenson  28.472501\n",
       "4      Rikki   Bruckman  15.974457"
      ]
     },
     "execution_count": 250,
     "metadata": {},
     "output_type": "execute_result"
    }
   ],
   "source": [
    "cln_data[['first_name', 'last_name', 'bmi']].head()"
   ]
  },
  {
   "cell_type": "code",
   "execution_count": 273,
   "metadata": {},
   "outputs": [],
   "source": [
    "overweight_idx = cln_data[cln_data['bmi']>30.0].index"
   ]
  },
  {
   "cell_type": "code",
   "execution_count": 276,
   "metadata": {},
   "outputs": [
    {
     "data": {
      "text/html": [
       "<div>\n",
       "<style>\n",
       "    .dataframe thead tr:only-child th {\n",
       "        text-align: right;\n",
       "    }\n",
       "\n",
       "    .dataframe thead th {\n",
       "        text-align: left;\n",
       "    }\n",
       "\n",
       "    .dataframe tbody tr th {\n",
       "        vertical-align: top;\n",
       "    }\n",
       "</style>\n",
       "<table border=\"1\" class=\"dataframe\">\n",
       "  <thead>\n",
       "    <tr style=\"text-align: right;\">\n",
       "      <th></th>\n",
       "      <th>bmi</th>\n",
       "    </tr>\n",
       "  </thead>\n",
       "  <tbody>\n",
       "    <tr>\n",
       "      <th>1</th>\n",
       "      <td>30.733444</td>\n",
       "    </tr>\n",
       "    <tr>\n",
       "      <th>5</th>\n",
       "      <td>41.732974</td>\n",
       "    </tr>\n",
       "    <tr>\n",
       "      <th>6</th>\n",
       "      <td>33.825572</td>\n",
       "    </tr>\n",
       "    <tr>\n",
       "      <th>22</th>\n",
       "      <td>32.482863</td>\n",
       "    </tr>\n",
       "    <tr>\n",
       "      <th>23</th>\n",
       "      <td>37.623284</td>\n",
       "    </tr>\n",
       "  </tbody>\n",
       "</table>\n",
       "</div>"
      ],
      "text/plain": [
       "          bmi\n",
       "1   30.733444\n",
       "5   41.732974\n",
       "6   33.825572\n",
       "22  32.482863\n",
       "23  37.623284"
      ]
     },
     "execution_count": 276,
     "metadata": {},
     "output_type": "execute_result"
    }
   ],
   "source": [
    "cln_data.loc[overweight_idx,['bmi']].head() # row indexer"
   ]
  },
  {
   "cell_type": "code",
   "execution_count": 279,
   "metadata": {
    "collapsed": true
   },
   "outputs": [],
   "source": [
    "cln_data.loc[overweight_idx,'class'] = 'overweight' # row indexer"
   ]
  },
  {
   "cell_type": "code",
   "execution_count": 284,
   "metadata": {},
   "outputs": [
    {
     "name": "stderr",
     "output_type": "stream",
     "text": [
      "/Users/likitpreeyanon/anaconda/envs/training/lib/python2.7/site-packages/pandas/core/generic.py:3660: SettingWithCopyWarning: \n",
      "A value is trying to be set on a copy of a slice from a DataFrame\n",
      "\n",
      "See the caveats in the documentation: http://pandas.pydata.org/pandas-docs/stable/indexing.html#indexing-view-versus-copy\n",
      "  self._update_inplace(new_data)\n"
     ]
    }
   ],
   "source": [
    "cln_data['class'].fillna('normal', inplace=True)"
   ]
  },
  {
   "cell_type": "code",
   "execution_count": 289,
   "metadata": {},
   "outputs": [
    {
     "data": {
      "text/plain": [
       "normal        647\n",
       "overweight    337\n",
       "Name: class, dtype: int64"
      ]
     },
     "execution_count": 289,
     "metadata": {},
     "output_type": "execute_result"
    }
   ],
   "source": [
    "cln_data['class'].value_counts()"
   ]
  },
  {
   "cell_type": "code",
   "execution_count": 292,
   "metadata": {},
   "outputs": [
    {
     "data": {
      "text/html": [
       "<div>\n",
       "<style>\n",
       "    .dataframe thead tr:only-child th {\n",
       "        text-align: right;\n",
       "    }\n",
       "\n",
       "    .dataframe thead th {\n",
       "        text-align: left;\n",
       "    }\n",
       "\n",
       "    .dataframe tbody tr th {\n",
       "        vertical-align: top;\n",
       "    }\n",
       "</style>\n",
       "<table border=\"1\" class=\"dataframe\">\n",
       "  <thead>\n",
       "    <tr style=\"text-align: right;\">\n",
       "      <th></th>\n",
       "      <th>id</th>\n",
       "      <th>first_name</th>\n",
       "      <th>last_name</th>\n",
       "      <th>gender</th>\n",
       "      <th>height</th>\n",
       "      <th>height_meter</th>\n",
       "      <th>bmi</th>\n",
       "      <th>class</th>\n",
       "    </tr>\n",
       "  </thead>\n",
       "  <tbody>\n",
       "    <tr>\n",
       "      <th>0</th>\n",
       "      <td>289-90-0980</td>\n",
       "      <td>Shirley</td>\n",
       "      <td>Baylay</td>\n",
       "      <td>Female</td>\n",
       "      <td>169.09</td>\n",
       "      <td>1.6909</td>\n",
       "      <td>28.756871</td>\n",
       "      <td>normal</td>\n",
       "    </tr>\n",
       "    <tr>\n",
       "      <th>1</th>\n",
       "      <td>709-24-2905</td>\n",
       "      <td>Beltran</td>\n",
       "      <td>Olczyk</td>\n",
       "      <td>Male</td>\n",
       "      <td>172.48</td>\n",
       "      <td>1.7248</td>\n",
       "      <td>30.733444</td>\n",
       "      <td>overweight</td>\n",
       "    </tr>\n",
       "    <tr>\n",
       "      <th>2</th>\n",
       "      <td>408-48-6169</td>\n",
       "      <td>Gussie</td>\n",
       "      <td>Wenban</td>\n",
       "      <td>Female</td>\n",
       "      <td>168.62</td>\n",
       "      <td>1.6862</td>\n",
       "      <td>26.068572</td>\n",
       "      <td>normal</td>\n",
       "    </tr>\n",
       "    <tr>\n",
       "      <th>3</th>\n",
       "      <td>576-36-5194</td>\n",
       "      <td>Fernando</td>\n",
       "      <td>Bettenson</td>\n",
       "      <td>Male</td>\n",
       "      <td>174.42</td>\n",
       "      <td>1.7442</td>\n",
       "      <td>28.472501</td>\n",
       "      <td>normal</td>\n",
       "    </tr>\n",
       "    <tr>\n",
       "      <th>4</th>\n",
       "      <td>124-96-2199</td>\n",
       "      <td>Rikki</td>\n",
       "      <td>Bruckman</td>\n",
       "      <td>Female</td>\n",
       "      <td>185.57</td>\n",
       "      <td>1.8557</td>\n",
       "      <td>15.974457</td>\n",
       "      <td>normal</td>\n",
       "    </tr>\n",
       "  </tbody>\n",
       "</table>\n",
       "</div>"
      ],
      "text/plain": [
       "            id first_name  last_name  gender  height  height_meter        bmi  \\\n",
       "0  289-90-0980    Shirley     Baylay  Female  169.09        1.6909  28.756871   \n",
       "1  709-24-2905    Beltran     Olczyk    Male  172.48        1.7248  30.733444   \n",
       "2  408-48-6169     Gussie     Wenban  Female  168.62        1.6862  26.068572   \n",
       "3  576-36-5194   Fernando  Bettenson    Male  174.42        1.7442  28.472501   \n",
       "4  124-96-2199      Rikki   Bruckman  Female  185.57        1.8557  15.974457   \n",
       "\n",
       "        class  \n",
       "0      normal  \n",
       "1  overweight  \n",
       "2      normal  \n",
       "3      normal  \n",
       "4      normal  "
      ]
     },
     "execution_count": 292,
     "metadata": {},
     "output_type": "execute_result"
    }
   ],
   "source": [
    "cln_data.head()"
   ]
  },
  {
   "cell_type": "code",
   "execution_count": 308,
   "metadata": {},
   "outputs": [],
   "source": [
    "cln_data.rename(columns={'gender': 'sex','bmi': 'BMI'}, inplace=True)"
   ]
  },
  {
   "cell_type": "code",
   "execution_count": 301,
   "metadata": {},
   "outputs": [
    {
     "data": {
      "text/plain": [
       "Index([u'id', u'first_name', u'last_name', u'sex', u'height', u'height_meter',\n",
       "       u'BMI', u'class'],\n",
       "      dtype='object')"
      ]
     },
     "execution_count": 301,
     "metadata": {},
     "output_type": "execute_result"
    }
   ],
   "source": [
    "cln_data.columns"
   ]
  },
  {
   "cell_type": "code",
   "execution_count": 303,
   "metadata": {},
   "outputs": [
    {
     "data": {
      "text/html": [
       "<div>\n",
       "<style>\n",
       "    .dataframe thead tr:only-child th {\n",
       "        text-align: right;\n",
       "    }\n",
       "\n",
       "    .dataframe thead th {\n",
       "        text-align: left;\n",
       "    }\n",
       "\n",
       "    .dataframe tbody tr th {\n",
       "        vertical-align: top;\n",
       "    }\n",
       "</style>\n",
       "<table border=\"1\" class=\"dataframe\">\n",
       "  <thead>\n",
       "    <tr style=\"text-align: right;\">\n",
       "      <th></th>\n",
       "      <th>id</th>\n",
       "      <th>first_name</th>\n",
       "      <th>last_name</th>\n",
       "      <th>gender</th>\n",
       "      <th>weight</th>\n",
       "      <th>height</th>\n",
       "    </tr>\n",
       "  </thead>\n",
       "  <tbody>\n",
       "    <tr>\n",
       "      <th>0</th>\n",
       "      <td>289-90-0980</td>\n",
       "      <td>Shirley</td>\n",
       "      <td>Baylay</td>\n",
       "      <td>Female</td>\n",
       "      <td>82.22</td>\n",
       "      <td>169.09</td>\n",
       "    </tr>\n",
       "    <tr>\n",
       "      <th>1</th>\n",
       "      <td>709-24-2905</td>\n",
       "      <td>Beltran</td>\n",
       "      <td>Olczyk</td>\n",
       "      <td>Male</td>\n",
       "      <td>91.43</td>\n",
       "      <td>172.48</td>\n",
       "    </tr>\n",
       "    <tr>\n",
       "      <th>2</th>\n",
       "      <td>408-48-6169</td>\n",
       "      <td>Gussie</td>\n",
       "      <td>Wenban</td>\n",
       "      <td>Female</td>\n",
       "      <td>74.12</td>\n",
       "      <td>168.62</td>\n",
       "    </tr>\n",
       "    <tr>\n",
       "      <th>3</th>\n",
       "      <td>576-36-5194</td>\n",
       "      <td>Fernando</td>\n",
       "      <td>Bettenson</td>\n",
       "      <td>Male</td>\n",
       "      <td>86.62</td>\n",
       "      <td>174.42</td>\n",
       "    </tr>\n",
       "    <tr>\n",
       "      <th>4</th>\n",
       "      <td>124-96-2199</td>\n",
       "      <td>Rikki</td>\n",
       "      <td>Bruckman</td>\n",
       "      <td>Female</td>\n",
       "      <td>55.01</td>\n",
       "      <td>185.57</td>\n",
       "    </tr>\n",
       "    <tr>\n",
       "      <th>5</th>\n",
       "      <td>534-15-9694</td>\n",
       "      <td>Phil</td>\n",
       "      <td>Malser</td>\n",
       "      <td>Female</td>\n",
       "      <td>100.16</td>\n",
       "      <td>154.92</td>\n",
       "    </tr>\n",
       "    <tr>\n",
       "      <th>6</th>\n",
       "      <td>662-30-5431</td>\n",
       "      <td>Lindsay</td>\n",
       "      <td>O'Donovan</td>\n",
       "      <td>Female</td>\n",
       "      <td>104.79</td>\n",
       "      <td>176.01</td>\n",
       "    </tr>\n",
       "    <tr>\n",
       "      <th>7</th>\n",
       "      <td>823-16-1039</td>\n",
       "      <td>Alwin</td>\n",
       "      <td>Studman</td>\n",
       "      <td>Male</td>\n",
       "      <td>62.59</td>\n",
       "      <td>171.02</td>\n",
       "    </tr>\n",
       "    <tr>\n",
       "      <th>8</th>\n",
       "      <td>499-20-2699</td>\n",
       "      <td>Dennie</td>\n",
       "      <td>Dellenbroker</td>\n",
       "      <td>Male</td>\n",
       "      <td>62.97</td>\n",
       "      <td>187.61</td>\n",
       "    </tr>\n",
       "    <tr>\n",
       "      <th>9</th>\n",
       "      <td>200-53-8859</td>\n",
       "      <td>Lilyan</td>\n",
       "      <td>Langcastle</td>\n",
       "      <td>Female</td>\n",
       "      <td>50.45</td>\n",
       "      <td>155.24</td>\n",
       "    </tr>\n",
       "    <tr>\n",
       "      <th>10</th>\n",
       "      <td>105-78-7538</td>\n",
       "      <td>Raynor</td>\n",
       "      <td>Byers</td>\n",
       "      <td>Male</td>\n",
       "      <td>72.24</td>\n",
       "      <td>155.26</td>\n",
       "    </tr>\n",
       "    <tr>\n",
       "      <th>11</th>\n",
       "      <td>708-03-7487</td>\n",
       "      <td>Isadora</td>\n",
       "      <td>Fosdick</td>\n",
       "      <td>Female</td>\n",
       "      <td>77.30</td>\n",
       "      <td>188.38</td>\n",
       "    </tr>\n",
       "    <tr>\n",
       "      <th>12</th>\n",
       "      <td>338-74-5379</td>\n",
       "      <td>Riki</td>\n",
       "      <td>MacMurray</td>\n",
       "      <td>Female</td>\n",
       "      <td>53.59</td>\n",
       "      <td>175.30</td>\n",
       "    </tr>\n",
       "    <tr>\n",
       "      <th>13</th>\n",
       "      <td>672-68-8153</td>\n",
       "      <td>Rancell</td>\n",
       "      <td>Sheivels</td>\n",
       "      <td>Male</td>\n",
       "      <td>60.99</td>\n",
       "      <td>173.90</td>\n",
       "    </tr>\n",
       "    <tr>\n",
       "      <th>14</th>\n",
       "      <td>807-93-3700</td>\n",
       "      <td>Ardith</td>\n",
       "      <td>Gipp</td>\n",
       "      <td>Female</td>\n",
       "      <td>58.79</td>\n",
       "      <td>180.26</td>\n",
       "    </tr>\n",
       "    <tr>\n",
       "      <th>15</th>\n",
       "      <td>139-28-0118</td>\n",
       "      <td>Kirsteni</td>\n",
       "      <td>Fraczkiewicz</td>\n",
       "      <td>Female</td>\n",
       "      <td>58.74</td>\n",
       "      <td>189.40</td>\n",
       "    </tr>\n",
       "    <tr>\n",
       "      <th>16</th>\n",
       "      <td>227-29-1308</td>\n",
       "      <td>Shellysheldon</td>\n",
       "      <td>Jankovic</td>\n",
       "      <td>Male</td>\n",
       "      <td>67.18</td>\n",
       "      <td>166.48</td>\n",
       "    </tr>\n",
       "    <tr>\n",
       "      <th>17</th>\n",
       "      <td>595-56-3950</td>\n",
       "      <td>Amanda</td>\n",
       "      <td>Vasishchev</td>\n",
       "      <td>Female</td>\n",
       "      <td>54.53</td>\n",
       "      <td>175.05</td>\n",
       "    </tr>\n",
       "    <tr>\n",
       "      <th>18</th>\n",
       "      <td>213-14-6717</td>\n",
       "      <td>Janenna</td>\n",
       "      <td>Mealand</td>\n",
       "      <td>Female</td>\n",
       "      <td>63.78</td>\n",
       "      <td>151.81</td>\n",
       "    </tr>\n",
       "    <tr>\n",
       "      <th>19</th>\n",
       "      <td>295-85-0351</td>\n",
       "      <td>Andres</td>\n",
       "      <td>Clows</td>\n",
       "      <td>Male</td>\n",
       "      <td>45.70</td>\n",
       "      <td>189.57</td>\n",
       "    </tr>\n",
       "    <tr>\n",
       "      <th>20</th>\n",
       "      <td>158-76-5981</td>\n",
       "      <td>Yvette</td>\n",
       "      <td>Gostling</td>\n",
       "      <td>Female</td>\n",
       "      <td>70.45</td>\n",
       "      <td>168.27</td>\n",
       "    </tr>\n",
       "    <tr>\n",
       "      <th>21</th>\n",
       "      <td>165-34-0505</td>\n",
       "      <td>Corina</td>\n",
       "      <td>Jaquiss</td>\n",
       "      <td>Female</td>\n",
       "      <td>69.00</td>\n",
       "      <td>181.11</td>\n",
       "    </tr>\n",
       "    <tr>\n",
       "      <th>22</th>\n",
       "      <td>438-18-7699</td>\n",
       "      <td>Emile</td>\n",
       "      <td>Ibbotson</td>\n",
       "      <td>Male</td>\n",
       "      <td>107.75</td>\n",
       "      <td>182.13</td>\n",
       "    </tr>\n",
       "    <tr>\n",
       "      <th>23</th>\n",
       "      <td>394-34-6395</td>\n",
       "      <td>Lombard</td>\n",
       "      <td>Provest</td>\n",
       "      <td>Male</td>\n",
       "      <td>90.60</td>\n",
       "      <td>155.18</td>\n",
       "    </tr>\n",
       "    <tr>\n",
       "      <th>24</th>\n",
       "      <td>260-86-4420</td>\n",
       "      <td>Selig</td>\n",
       "      <td>Wilcock</td>\n",
       "      <td>Male</td>\n",
       "      <td>83.72</td>\n",
       "      <td>176.60</td>\n",
       "    </tr>\n",
       "    <tr>\n",
       "      <th>25</th>\n",
       "      <td>896-46-4112</td>\n",
       "      <td>Skipton</td>\n",
       "      <td>Bullier</td>\n",
       "      <td>Male</td>\n",
       "      <td>81.73</td>\n",
       "      <td>178.25</td>\n",
       "    </tr>\n",
       "    <tr>\n",
       "      <th>26</th>\n",
       "      <td>158-75-4678</td>\n",
       "      <td>Asia</td>\n",
       "      <td>Trelease</td>\n",
       "      <td>Female</td>\n",
       "      <td>100.80</td>\n",
       "      <td>171.28</td>\n",
       "    </tr>\n",
       "    <tr>\n",
       "      <th>27</th>\n",
       "      <td>801-73-2389</td>\n",
       "      <td>Farica</td>\n",
       "      <td>Bradd</td>\n",
       "      <td>Female</td>\n",
       "      <td>94.54</td>\n",
       "      <td>181.08</td>\n",
       "    </tr>\n",
       "    <tr>\n",
       "      <th>28</th>\n",
       "      <td>659-65-5664</td>\n",
       "      <td>Jacklyn</td>\n",
       "      <td>Blockey</td>\n",
       "      <td>Female</td>\n",
       "      <td>61.47</td>\n",
       "      <td>179.70</td>\n",
       "    </tr>\n",
       "    <tr>\n",
       "      <th>29</th>\n",
       "      <td>186-37-6945</td>\n",
       "      <td>Timothy</td>\n",
       "      <td>Milmore</td>\n",
       "      <td>Male</td>\n",
       "      <td>109.63</td>\n",
       "      <td>178.79</td>\n",
       "    </tr>\n",
       "    <tr>\n",
       "      <th>...</th>\n",
       "      <td>...</td>\n",
       "      <td>...</td>\n",
       "      <td>...</td>\n",
       "      <td>...</td>\n",
       "      <td>...</td>\n",
       "      <td>...</td>\n",
       "    </tr>\n",
       "    <tr>\n",
       "      <th>970</th>\n",
       "      <td>573-71-7163</td>\n",
       "      <td>Berte</td>\n",
       "      <td>Pifford</td>\n",
       "      <td>Female</td>\n",
       "      <td>62.45</td>\n",
       "      <td>164.26</td>\n",
       "    </tr>\n",
       "    <tr>\n",
       "      <th>971</th>\n",
       "      <td>397-11-0944</td>\n",
       "      <td>Chandler</td>\n",
       "      <td>Maier</td>\n",
       "      <td>Male</td>\n",
       "      <td>47.81</td>\n",
       "      <td>167.80</td>\n",
       "    </tr>\n",
       "    <tr>\n",
       "      <th>972</th>\n",
       "      <td>704-48-6823</td>\n",
       "      <td>Whitney</td>\n",
       "      <td>Dykas</td>\n",
       "      <td>Female</td>\n",
       "      <td>98.03</td>\n",
       "      <td>171.09</td>\n",
       "    </tr>\n",
       "    <tr>\n",
       "      <th>973</th>\n",
       "      <td>165-82-2287</td>\n",
       "      <td>Birch</td>\n",
       "      <td>Demkowicz</td>\n",
       "      <td>Male</td>\n",
       "      <td>55.28</td>\n",
       "      <td>156.90</td>\n",
       "    </tr>\n",
       "    <tr>\n",
       "      <th>974</th>\n",
       "      <td>882-31-5352</td>\n",
       "      <td>Antonina</td>\n",
       "      <td>Tuck</td>\n",
       "      <td>Female</td>\n",
       "      <td>69.60</td>\n",
       "      <td>167.74</td>\n",
       "    </tr>\n",
       "    <tr>\n",
       "      <th>975</th>\n",
       "      <td>448-01-8134</td>\n",
       "      <td>Galvin</td>\n",
       "      <td>Crenage</td>\n",
       "      <td>Male</td>\n",
       "      <td>98.81</td>\n",
       "      <td>164.18</td>\n",
       "    </tr>\n",
       "    <tr>\n",
       "      <th>976</th>\n",
       "      <td>688-30-7379</td>\n",
       "      <td>Austin</td>\n",
       "      <td>Shufflebotham</td>\n",
       "      <td>Male</td>\n",
       "      <td>52.77</td>\n",
       "      <td>175.27</td>\n",
       "    </tr>\n",
       "    <tr>\n",
       "      <th>977</th>\n",
       "      <td>652-15-5420</td>\n",
       "      <td>Abagael</td>\n",
       "      <td>Koppens</td>\n",
       "      <td>Female</td>\n",
       "      <td>80.29</td>\n",
       "      <td>181.51</td>\n",
       "    </tr>\n",
       "    <tr>\n",
       "      <th>978</th>\n",
       "      <td>552-52-1069</td>\n",
       "      <td>Flynn</td>\n",
       "      <td>MacKissack</td>\n",
       "      <td>Male</td>\n",
       "      <td>91.41</td>\n",
       "      <td>162.06</td>\n",
       "    </tr>\n",
       "    <tr>\n",
       "      <th>979</th>\n",
       "      <td>774-35-1552</td>\n",
       "      <td>Talbot</td>\n",
       "      <td>Carlino</td>\n",
       "      <td>Male</td>\n",
       "      <td>82.83</td>\n",
       "      <td>170.26</td>\n",
       "    </tr>\n",
       "    <tr>\n",
       "      <th>980</th>\n",
       "      <td>390-74-3488</td>\n",
       "      <td>Shurlock</td>\n",
       "      <td>Giddy</td>\n",
       "      <td>Male</td>\n",
       "      <td>67.36</td>\n",
       "      <td>172.84</td>\n",
       "    </tr>\n",
       "    <tr>\n",
       "      <th>981</th>\n",
       "      <td>183-12-6354</td>\n",
       "      <td>Frederigo</td>\n",
       "      <td>Flag</td>\n",
       "      <td>Male</td>\n",
       "      <td>105.55</td>\n",
       "      <td>178.26</td>\n",
       "    </tr>\n",
       "    <tr>\n",
       "      <th>982</th>\n",
       "      <td>553-52-4624</td>\n",
       "      <td>Ebba</td>\n",
       "      <td>Ridgers</td>\n",
       "      <td>Female</td>\n",
       "      <td>82.87</td>\n",
       "      <td>161.54</td>\n",
       "    </tr>\n",
       "    <tr>\n",
       "      <th>983</th>\n",
       "      <td>319-71-3406</td>\n",
       "      <td>Nikaniki</td>\n",
       "      <td>Fossey</td>\n",
       "      <td>Female</td>\n",
       "      <td>71.81</td>\n",
       "      <td>180.04</td>\n",
       "    </tr>\n",
       "    <tr>\n",
       "      <th>984</th>\n",
       "      <td>608-02-3535</td>\n",
       "      <td>Brent</td>\n",
       "      <td>Eykelbosch</td>\n",
       "      <td>Male</td>\n",
       "      <td>98.34</td>\n",
       "      <td>178.81</td>\n",
       "    </tr>\n",
       "    <tr>\n",
       "      <th>985</th>\n",
       "      <td>428-28-6357</td>\n",
       "      <td>Karina</td>\n",
       "      <td>Burgin</td>\n",
       "      <td>Female</td>\n",
       "      <td>69.99</td>\n",
       "      <td>158.38</td>\n",
       "    </tr>\n",
       "    <tr>\n",
       "      <th>986</th>\n",
       "      <td>677-91-0390</td>\n",
       "      <td>Clemente</td>\n",
       "      <td>Mattusov</td>\n",
       "      <td>Male</td>\n",
       "      <td>97.77</td>\n",
       "      <td>187.44</td>\n",
       "    </tr>\n",
       "    <tr>\n",
       "      <th>987</th>\n",
       "      <td>498-41-6722</td>\n",
       "      <td>Melicent</td>\n",
       "      <td>Mainland</td>\n",
       "      <td>Female</td>\n",
       "      <td>73.56</td>\n",
       "      <td>163.53</td>\n",
       "    </tr>\n",
       "    <tr>\n",
       "      <th>988</th>\n",
       "      <td>620-84-2915</td>\n",
       "      <td>Issie</td>\n",
       "      <td>Guerin</td>\n",
       "      <td>Female</td>\n",
       "      <td>49.68</td>\n",
       "      <td>176.56</td>\n",
       "    </tr>\n",
       "    <tr>\n",
       "      <th>989</th>\n",
       "      <td>397-57-7478</td>\n",
       "      <td>Mort</td>\n",
       "      <td>Bansal</td>\n",
       "      <td>Male</td>\n",
       "      <td>87.43</td>\n",
       "      <td>150.61</td>\n",
       "    </tr>\n",
       "    <tr>\n",
       "      <th>990</th>\n",
       "      <td>695-67-5738</td>\n",
       "      <td>Laird</td>\n",
       "      <td>Ayer</td>\n",
       "      <td>Male</td>\n",
       "      <td>70.14</td>\n",
       "      <td>155.63</td>\n",
       "    </tr>\n",
       "    <tr>\n",
       "      <th>991</th>\n",
       "      <td>787-68-1559</td>\n",
       "      <td>Selena</td>\n",
       "      <td>Grewes</td>\n",
       "      <td>Female</td>\n",
       "      <td>86.83</td>\n",
       "      <td>159.67</td>\n",
       "    </tr>\n",
       "    <tr>\n",
       "      <th>992</th>\n",
       "      <td>163-82-0270</td>\n",
       "      <td>Katerina</td>\n",
       "      <td>Standeven</td>\n",
       "      <td>Female</td>\n",
       "      <td>91.35</td>\n",
       "      <td>163.18</td>\n",
       "    </tr>\n",
       "    <tr>\n",
       "      <th>993</th>\n",
       "      <td>109-65-5931</td>\n",
       "      <td>Guy</td>\n",
       "      <td>Yoakley</td>\n",
       "      <td>Male</td>\n",
       "      <td>84.63</td>\n",
       "      <td>169.19</td>\n",
       "    </tr>\n",
       "    <tr>\n",
       "      <th>994</th>\n",
       "      <td>306-47-1291</td>\n",
       "      <td>Natassia</td>\n",
       "      <td>Robers</td>\n",
       "      <td>Female</td>\n",
       "      <td>77.39</td>\n",
       "      <td>169.35</td>\n",
       "    </tr>\n",
       "    <tr>\n",
       "      <th>995</th>\n",
       "      <td>732-65-6326</td>\n",
       "      <td>Cobbie</td>\n",
       "      <td>Flitcroft</td>\n",
       "      <td>Male</td>\n",
       "      <td>85.62</td>\n",
       "      <td>159.55</td>\n",
       "    </tr>\n",
       "    <tr>\n",
       "      <th>996</th>\n",
       "      <td>869-19-5879</td>\n",
       "      <td>Link</td>\n",
       "      <td>Mallan</td>\n",
       "      <td>Male</td>\n",
       "      <td>95.30</td>\n",
       "      <td>150.90</td>\n",
       "    </tr>\n",
       "    <tr>\n",
       "      <th>997</th>\n",
       "      <td>760-29-3381</td>\n",
       "      <td>Inglebert</td>\n",
       "      <td>Chave</td>\n",
       "      <td>Male</td>\n",
       "      <td>106.35</td>\n",
       "      <td>181.82</td>\n",
       "    </tr>\n",
       "    <tr>\n",
       "      <th>998</th>\n",
       "      <td>208-53-9148</td>\n",
       "      <td>Leonhard</td>\n",
       "      <td>Drawmer</td>\n",
       "      <td>Male</td>\n",
       "      <td>95.39</td>\n",
       "      <td>169.98</td>\n",
       "    </tr>\n",
       "    <tr>\n",
       "      <th>999</th>\n",
       "      <td>423-03-7537</td>\n",
       "      <td>Mellisent</td>\n",
       "      <td>Valintine</td>\n",
       "      <td>Female</td>\n",
       "      <td>108.58</td>\n",
       "      <td>180.23</td>\n",
       "    </tr>\n",
       "  </tbody>\n",
       "</table>\n",
       "<p>1000 rows × 6 columns</p>\n",
       "</div>"
      ],
      "text/plain": [
       "              id     first_name      last_name  gender  weight  height\n",
       "0    289-90-0980        Shirley         Baylay  Female   82.22  169.09\n",
       "1    709-24-2905        Beltran         Olczyk    Male   91.43  172.48\n",
       "2    408-48-6169         Gussie         Wenban  Female   74.12  168.62\n",
       "3    576-36-5194       Fernando      Bettenson    Male   86.62  174.42\n",
       "4    124-96-2199          Rikki       Bruckman  Female   55.01  185.57\n",
       "5    534-15-9694           Phil         Malser  Female  100.16  154.92\n",
       "6    662-30-5431        Lindsay      O'Donovan  Female  104.79  176.01\n",
       "7    823-16-1039          Alwin        Studman    Male   62.59  171.02\n",
       "8    499-20-2699         Dennie   Dellenbroker    Male   62.97  187.61\n",
       "9    200-53-8859         Lilyan     Langcastle  Female   50.45  155.24\n",
       "10   105-78-7538         Raynor          Byers    Male   72.24  155.26\n",
       "11   708-03-7487        Isadora        Fosdick  Female   77.30  188.38\n",
       "12   338-74-5379           Riki      MacMurray  Female   53.59  175.30\n",
       "13   672-68-8153        Rancell       Sheivels    Male   60.99  173.90\n",
       "14   807-93-3700         Ardith           Gipp  Female   58.79  180.26\n",
       "15   139-28-0118       Kirsteni   Fraczkiewicz  Female   58.74  189.40\n",
       "16   227-29-1308  Shellysheldon       Jankovic    Male   67.18  166.48\n",
       "17   595-56-3950         Amanda     Vasishchev  Female   54.53  175.05\n",
       "18   213-14-6717        Janenna        Mealand  Female   63.78  151.81\n",
       "19   295-85-0351         Andres          Clows    Male   45.70  189.57\n",
       "20   158-76-5981         Yvette       Gostling  Female   70.45  168.27\n",
       "21   165-34-0505         Corina        Jaquiss  Female   69.00  181.11\n",
       "22   438-18-7699          Emile       Ibbotson    Male  107.75  182.13\n",
       "23   394-34-6395        Lombard        Provest    Male   90.60  155.18\n",
       "24   260-86-4420          Selig        Wilcock    Male   83.72  176.60\n",
       "25   896-46-4112        Skipton        Bullier    Male   81.73  178.25\n",
       "26   158-75-4678           Asia       Trelease  Female  100.80  171.28\n",
       "27   801-73-2389         Farica          Bradd  Female   94.54  181.08\n",
       "28   659-65-5664        Jacklyn        Blockey  Female   61.47  179.70\n",
       "29   186-37-6945        Timothy        Milmore    Male  109.63  178.79\n",
       "..           ...            ...            ...     ...     ...     ...\n",
       "970  573-71-7163          Berte        Pifford  Female   62.45  164.26\n",
       "971  397-11-0944       Chandler          Maier    Male   47.81  167.80\n",
       "972  704-48-6823        Whitney          Dykas  Female   98.03  171.09\n",
       "973  165-82-2287          Birch      Demkowicz    Male   55.28  156.90\n",
       "974  882-31-5352       Antonina           Tuck  Female   69.60  167.74\n",
       "975  448-01-8134         Galvin        Crenage    Male   98.81  164.18\n",
       "976  688-30-7379         Austin  Shufflebotham    Male   52.77  175.27\n",
       "977  652-15-5420        Abagael        Koppens  Female   80.29  181.51\n",
       "978  552-52-1069          Flynn     MacKissack    Male   91.41  162.06\n",
       "979  774-35-1552         Talbot        Carlino    Male   82.83  170.26\n",
       "980  390-74-3488       Shurlock          Giddy    Male   67.36  172.84\n",
       "981  183-12-6354      Frederigo           Flag    Male  105.55  178.26\n",
       "982  553-52-4624           Ebba        Ridgers  Female   82.87  161.54\n",
       "983  319-71-3406       Nikaniki         Fossey  Female   71.81  180.04\n",
       "984  608-02-3535          Brent     Eykelbosch    Male   98.34  178.81\n",
       "985  428-28-6357         Karina         Burgin  Female   69.99  158.38\n",
       "986  677-91-0390       Clemente       Mattusov    Male   97.77  187.44\n",
       "987  498-41-6722       Melicent       Mainland  Female   73.56  163.53\n",
       "988  620-84-2915          Issie         Guerin  Female   49.68  176.56\n",
       "989  397-57-7478           Mort         Bansal    Male   87.43  150.61\n",
       "990  695-67-5738          Laird           Ayer    Male   70.14  155.63\n",
       "991  787-68-1559         Selena         Grewes  Female   86.83  159.67\n",
       "992  163-82-0270       Katerina      Standeven  Female   91.35  163.18\n",
       "993  109-65-5931            Guy        Yoakley    Male   84.63  169.19\n",
       "994  306-47-1291       Natassia         Robers  Female   77.39  169.35\n",
       "995  732-65-6326         Cobbie      Flitcroft    Male   85.62  159.55\n",
       "996  869-19-5879           Link         Mallan    Male   95.30  150.90\n",
       "997  760-29-3381      Inglebert          Chave    Male  106.35  181.82\n",
       "998  208-53-9148       Leonhard        Drawmer    Male   95.39  169.98\n",
       "999  423-03-7537      Mellisent      Valintine  Female  108.58  180.23\n",
       "\n",
       "[1000 rows x 6 columns]"
      ]
     },
     "execution_count": 303,
     "metadata": {},
     "output_type": "execute_result"
    }
   ],
   "source": [
    "cleaned_data = data.dropna().copy()"
   ]
  },
  {
   "cell_type": "code",
   "execution_count": 304,
   "metadata": {
    "collapsed": true
   },
   "outputs": [],
   "source": [
    "del data"
   ]
  },
  {
   "cell_type": "code",
   "execution_count": 307,
   "metadata": {},
   "outputs": [
    {
     "data": {
      "text/html": [
       "<div>\n",
       "<style>\n",
       "    .dataframe thead tr:only-child th {\n",
       "        text-align: right;\n",
       "    }\n",
       "\n",
       "    .dataframe thead th {\n",
       "        text-align: left;\n",
       "    }\n",
       "\n",
       "    .dataframe tbody tr th {\n",
       "        vertical-align: top;\n",
       "    }\n",
       "</style>\n",
       "<table border=\"1\" class=\"dataframe\">\n",
       "  <thead>\n",
       "    <tr style=\"text-align: right;\">\n",
       "      <th></th>\n",
       "      <th>id</th>\n",
       "      <th>first_name</th>\n",
       "      <th>last_name</th>\n",
       "      <th>sex</th>\n",
       "      <th>height</th>\n",
       "      <th>height_meter</th>\n",
       "      <th>BMI</th>\n",
       "      <th>class</th>\n",
       "    </tr>\n",
       "  </thead>\n",
       "  <tbody>\n",
       "    <tr>\n",
       "      <th>0</th>\n",
       "      <td>289-90-0980</td>\n",
       "      <td>Shirley</td>\n",
       "      <td>Baylay</td>\n",
       "      <td>Female</td>\n",
       "      <td>169.09</td>\n",
       "      <td>1.6909</td>\n",
       "      <td>28.756871</td>\n",
       "      <td>normal</td>\n",
       "    </tr>\n",
       "    <tr>\n",
       "      <th>1</th>\n",
       "      <td>709-24-2905</td>\n",
       "      <td>Beltran</td>\n",
       "      <td>Olczyk</td>\n",
       "      <td>Male</td>\n",
       "      <td>172.48</td>\n",
       "      <td>1.7248</td>\n",
       "      <td>30.733444</td>\n",
       "      <td>overweight</td>\n",
       "    </tr>\n",
       "    <tr>\n",
       "      <th>2</th>\n",
       "      <td>408-48-6169</td>\n",
       "      <td>Gussie</td>\n",
       "      <td>Wenban</td>\n",
       "      <td>Female</td>\n",
       "      <td>168.62</td>\n",
       "      <td>1.6862</td>\n",
       "      <td>26.068572</td>\n",
       "      <td>normal</td>\n",
       "    </tr>\n",
       "    <tr>\n",
       "      <th>3</th>\n",
       "      <td>576-36-5194</td>\n",
       "      <td>Fernando</td>\n",
       "      <td>Bettenson</td>\n",
       "      <td>Male</td>\n",
       "      <td>174.42</td>\n",
       "      <td>1.7442</td>\n",
       "      <td>28.472501</td>\n",
       "      <td>normal</td>\n",
       "    </tr>\n",
       "    <tr>\n",
       "      <th>4</th>\n",
       "      <td>124-96-2199</td>\n",
       "      <td>Rikki</td>\n",
       "      <td>Bruckman</td>\n",
       "      <td>Female</td>\n",
       "      <td>185.57</td>\n",
       "      <td>1.8557</td>\n",
       "      <td>15.974457</td>\n",
       "      <td>normal</td>\n",
       "    </tr>\n",
       "    <tr>\n",
       "      <th>5</th>\n",
       "      <td>534-15-9694</td>\n",
       "      <td>Phil</td>\n",
       "      <td>Malser</td>\n",
       "      <td>Female</td>\n",
       "      <td>154.92</td>\n",
       "      <td>1.5492</td>\n",
       "      <td>41.732974</td>\n",
       "      <td>overweight</td>\n",
       "    </tr>\n",
       "    <tr>\n",
       "      <th>6</th>\n",
       "      <td>662-30-5431</td>\n",
       "      <td>Lindsay</td>\n",
       "      <td>O'Donovan</td>\n",
       "      <td>Female</td>\n",
       "      <td>176.01</td>\n",
       "      <td>1.7601</td>\n",
       "      <td>33.825572</td>\n",
       "      <td>overweight</td>\n",
       "    </tr>\n",
       "    <tr>\n",
       "      <th>7</th>\n",
       "      <td>823-16-1039</td>\n",
       "      <td>Alwin</td>\n",
       "      <td>Studman</td>\n",
       "      <td>Male</td>\n",
       "      <td>171.02</td>\n",
       "      <td>1.7102</td>\n",
       "      <td>21.399871</td>\n",
       "      <td>normal</td>\n",
       "    </tr>\n",
       "    <tr>\n",
       "      <th>8</th>\n",
       "      <td>499-20-2699</td>\n",
       "      <td>Dennie</td>\n",
       "      <td>Dellenbroker</td>\n",
       "      <td>Male</td>\n",
       "      <td>187.61</td>\n",
       "      <td>1.8761</td>\n",
       "      <td>17.890469</td>\n",
       "      <td>normal</td>\n",
       "    </tr>\n",
       "    <tr>\n",
       "      <th>9</th>\n",
       "      <td>200-53-8859</td>\n",
       "      <td>Lilyan</td>\n",
       "      <td>Langcastle</td>\n",
       "      <td>Female</td>\n",
       "      <td>155.24</td>\n",
       "      <td>1.5524</td>\n",
       "      <td>20.934081</td>\n",
       "      <td>normal</td>\n",
       "    </tr>\n",
       "    <tr>\n",
       "      <th>10</th>\n",
       "      <td>105-78-7538</td>\n",
       "      <td>Raynor</td>\n",
       "      <td>Byers</td>\n",
       "      <td>Male</td>\n",
       "      <td>155.26</td>\n",
       "      <td>1.5526</td>\n",
       "      <td>29.968056</td>\n",
       "      <td>normal</td>\n",
       "    </tr>\n",
       "    <tr>\n",
       "      <th>11</th>\n",
       "      <td>708-03-7487</td>\n",
       "      <td>Isadora</td>\n",
       "      <td>Fosdick</td>\n",
       "      <td>Female</td>\n",
       "      <td>188.38</td>\n",
       "      <td>1.8838</td>\n",
       "      <td>21.782610</td>\n",
       "      <td>normal</td>\n",
       "    </tr>\n",
       "    <tr>\n",
       "      <th>12</th>\n",
       "      <td>338-74-5379</td>\n",
       "      <td>Riki</td>\n",
       "      <td>MacMurray</td>\n",
       "      <td>Female</td>\n",
       "      <td>175.30</td>\n",
       "      <td>1.7530</td>\n",
       "      <td>17.438934</td>\n",
       "      <td>normal</td>\n",
       "    </tr>\n",
       "    <tr>\n",
       "      <th>13</th>\n",
       "      <td>672-68-8153</td>\n",
       "      <td>Rancell</td>\n",
       "      <td>Sheivels</td>\n",
       "      <td>Male</td>\n",
       "      <td>173.90</td>\n",
       "      <td>1.7390</td>\n",
       "      <td>20.167844</td>\n",
       "      <td>normal</td>\n",
       "    </tr>\n",
       "    <tr>\n",
       "      <th>14</th>\n",
       "      <td>807-93-3700</td>\n",
       "      <td>Ardith</td>\n",
       "      <td>Gipp</td>\n",
       "      <td>Female</td>\n",
       "      <td>180.26</td>\n",
       "      <td>1.8026</td>\n",
       "      <td>18.092756</td>\n",
       "      <td>normal</td>\n",
       "    </tr>\n",
       "    <tr>\n",
       "      <th>15</th>\n",
       "      <td>139-28-0118</td>\n",
       "      <td>Kirsteni</td>\n",
       "      <td>Fraczkiewicz</td>\n",
       "      <td>Female</td>\n",
       "      <td>189.40</td>\n",
       "      <td>1.8940</td>\n",
       "      <td>16.374724</td>\n",
       "      <td>normal</td>\n",
       "    </tr>\n",
       "    <tr>\n",
       "      <th>16</th>\n",
       "      <td>227-29-1308</td>\n",
       "      <td>Shellysheldon</td>\n",
       "      <td>Jankovic</td>\n",
       "      <td>Male</td>\n",
       "      <td>166.48</td>\n",
       "      <td>1.6648</td>\n",
       "      <td>24.239065</td>\n",
       "      <td>normal</td>\n",
       "    </tr>\n",
       "    <tr>\n",
       "      <th>17</th>\n",
       "      <td>595-56-3950</td>\n",
       "      <td>Amanda</td>\n",
       "      <td>Vasishchev</td>\n",
       "      <td>Female</td>\n",
       "      <td>175.05</td>\n",
       "      <td>1.7505</td>\n",
       "      <td>17.795544</td>\n",
       "      <td>normal</td>\n",
       "    </tr>\n",
       "    <tr>\n",
       "      <th>18</th>\n",
       "      <td>213-14-6717</td>\n",
       "      <td>Janenna</td>\n",
       "      <td>Mealand</td>\n",
       "      <td>Female</td>\n",
       "      <td>151.81</td>\n",
       "      <td>1.5181</td>\n",
       "      <td>27.674753</td>\n",
       "      <td>normal</td>\n",
       "    </tr>\n",
       "    <tr>\n",
       "      <th>19</th>\n",
       "      <td>295-85-0351</td>\n",
       "      <td>Andres</td>\n",
       "      <td>Clows</td>\n",
       "      <td>Male</td>\n",
       "      <td>189.57</td>\n",
       "      <td>1.8957</td>\n",
       "      <td>12.716775</td>\n",
       "      <td>normal</td>\n",
       "    </tr>\n",
       "    <tr>\n",
       "      <th>20</th>\n",
       "      <td>158-76-5981</td>\n",
       "      <td>Yvette</td>\n",
       "      <td>Gostling</td>\n",
       "      <td>Female</td>\n",
       "      <td>168.27</td>\n",
       "      <td>1.6827</td>\n",
       "      <td>24.880987</td>\n",
       "      <td>normal</td>\n",
       "    </tr>\n",
       "    <tr>\n",
       "      <th>21</th>\n",
       "      <td>165-34-0505</td>\n",
       "      <td>Corina</td>\n",
       "      <td>Jaquiss</td>\n",
       "      <td>Female</td>\n",
       "      <td>181.11</td>\n",
       "      <td>1.8111</td>\n",
       "      <td>21.036052</td>\n",
       "      <td>normal</td>\n",
       "    </tr>\n",
       "    <tr>\n",
       "      <th>22</th>\n",
       "      <td>438-18-7699</td>\n",
       "      <td>Emile</td>\n",
       "      <td>Ibbotson</td>\n",
       "      <td>Male</td>\n",
       "      <td>182.13</td>\n",
       "      <td>1.8213</td>\n",
       "      <td>32.482863</td>\n",
       "      <td>overweight</td>\n",
       "    </tr>\n",
       "    <tr>\n",
       "      <th>23</th>\n",
       "      <td>394-34-6395</td>\n",
       "      <td>Lombard</td>\n",
       "      <td>Provest</td>\n",
       "      <td>Male</td>\n",
       "      <td>155.18</td>\n",
       "      <td>1.5518</td>\n",
       "      <td>37.623284</td>\n",
       "      <td>overweight</td>\n",
       "    </tr>\n",
       "    <tr>\n",
       "      <th>24</th>\n",
       "      <td>260-86-4420</td>\n",
       "      <td>Selig</td>\n",
       "      <td>Wilcock</td>\n",
       "      <td>Male</td>\n",
       "      <td>176.60</td>\n",
       "      <td>1.7660</td>\n",
       "      <td>26.844037</td>\n",
       "      <td>normal</td>\n",
       "    </tr>\n",
       "    <tr>\n",
       "      <th>25</th>\n",
       "      <td>896-46-4112</td>\n",
       "      <td>Skipton</td>\n",
       "      <td>Bullier</td>\n",
       "      <td>Male</td>\n",
       "      <td>178.25</td>\n",
       "      <td>1.7825</td>\n",
       "      <td>25.723048</td>\n",
       "      <td>normal</td>\n",
       "    </tr>\n",
       "    <tr>\n",
       "      <th>26</th>\n",
       "      <td>158-75-4678</td>\n",
       "      <td>Asia</td>\n",
       "      <td>Trelease</td>\n",
       "      <td>Female</td>\n",
       "      <td>171.28</td>\n",
       "      <td>1.7128</td>\n",
       "      <td>34.359531</td>\n",
       "      <td>overweight</td>\n",
       "    </tr>\n",
       "    <tr>\n",
       "      <th>27</th>\n",
       "      <td>801-73-2389</td>\n",
       "      <td>Farica</td>\n",
       "      <td>Bradd</td>\n",
       "      <td>Female</td>\n",
       "      <td>181.08</td>\n",
       "      <td>1.8108</td>\n",
       "      <td>28.831991</td>\n",
       "      <td>normal</td>\n",
       "    </tr>\n",
       "    <tr>\n",
       "      <th>28</th>\n",
       "      <td>659-65-5664</td>\n",
       "      <td>Jacklyn</td>\n",
       "      <td>Blockey</td>\n",
       "      <td>Female</td>\n",
       "      <td>179.70</td>\n",
       "      <td>1.7970</td>\n",
       "      <td>19.035621</td>\n",
       "      <td>normal</td>\n",
       "    </tr>\n",
       "    <tr>\n",
       "      <th>29</th>\n",
       "      <td>186-37-6945</td>\n",
       "      <td>Timothy</td>\n",
       "      <td>Milmore</td>\n",
       "      <td>Male</td>\n",
       "      <td>178.79</td>\n",
       "      <td>1.7879</td>\n",
       "      <td>34.295960</td>\n",
       "      <td>overweight</td>\n",
       "    </tr>\n",
       "    <tr>\n",
       "      <th>...</th>\n",
       "      <td>...</td>\n",
       "      <td>...</td>\n",
       "      <td>...</td>\n",
       "      <td>...</td>\n",
       "      <td>...</td>\n",
       "      <td>...</td>\n",
       "      <td>...</td>\n",
       "      <td>...</td>\n",
       "    </tr>\n",
       "    <tr>\n",
       "      <th>970</th>\n",
       "      <td>573-71-7163</td>\n",
       "      <td>Berte</td>\n",
       "      <td>Pifford</td>\n",
       "      <td>Female</td>\n",
       "      <td>164.26</td>\n",
       "      <td>1.6426</td>\n",
       "      <td>23.145619</td>\n",
       "      <td>normal</td>\n",
       "    </tr>\n",
       "    <tr>\n",
       "      <th>971</th>\n",
       "      <td>397-11-0944</td>\n",
       "      <td>Chandler</td>\n",
       "      <td>Maier</td>\n",
       "      <td>Male</td>\n",
       "      <td>167.80</td>\n",
       "      <td>1.6780</td>\n",
       "      <td>16.979888</td>\n",
       "      <td>normal</td>\n",
       "    </tr>\n",
       "    <tr>\n",
       "      <th>972</th>\n",
       "      <td>704-48-6823</td>\n",
       "      <td>Whitney</td>\n",
       "      <td>Dykas</td>\n",
       "      <td>Female</td>\n",
       "      <td>171.09</td>\n",
       "      <td>1.7109</td>\n",
       "      <td>33.489584</td>\n",
       "      <td>overweight</td>\n",
       "    </tr>\n",
       "    <tr>\n",
       "      <th>973</th>\n",
       "      <td>165-82-2287</td>\n",
       "      <td>Birch</td>\n",
       "      <td>Demkowicz</td>\n",
       "      <td>Male</td>\n",
       "      <td>156.90</td>\n",
       "      <td>1.5690</td>\n",
       "      <td>22.455470</td>\n",
       "      <td>normal</td>\n",
       "    </tr>\n",
       "    <tr>\n",
       "      <th>974</th>\n",
       "      <td>882-31-5352</td>\n",
       "      <td>Antonina</td>\n",
       "      <td>Tuck</td>\n",
       "      <td>Female</td>\n",
       "      <td>167.74</td>\n",
       "      <td>1.6774</td>\n",
       "      <td>24.736370</td>\n",
       "      <td>normal</td>\n",
       "    </tr>\n",
       "    <tr>\n",
       "      <th>975</th>\n",
       "      <td>448-01-8134</td>\n",
       "      <td>Galvin</td>\n",
       "      <td>Crenage</td>\n",
       "      <td>Male</td>\n",
       "      <td>164.18</td>\n",
       "      <td>1.6418</td>\n",
       "      <td>36.657293</td>\n",
       "      <td>overweight</td>\n",
       "    </tr>\n",
       "    <tr>\n",
       "      <th>976</th>\n",
       "      <td>688-30-7379</td>\n",
       "      <td>Austin</td>\n",
       "      <td>Shufflebotham</td>\n",
       "      <td>Male</td>\n",
       "      <td>175.27</td>\n",
       "      <td>1.7527</td>\n",
       "      <td>17.177973</td>\n",
       "      <td>normal</td>\n",
       "    </tr>\n",
       "    <tr>\n",
       "      <th>977</th>\n",
       "      <td>652-15-5420</td>\n",
       "      <td>Abagael</td>\n",
       "      <td>Koppens</td>\n",
       "      <td>Female</td>\n",
       "      <td>181.51</td>\n",
       "      <td>1.8151</td>\n",
       "      <td>24.370270</td>\n",
       "      <td>normal</td>\n",
       "    </tr>\n",
       "    <tr>\n",
       "      <th>978</th>\n",
       "      <td>552-52-1069</td>\n",
       "      <td>Flynn</td>\n",
       "      <td>MacKissack</td>\n",
       "      <td>Male</td>\n",
       "      <td>162.06</td>\n",
       "      <td>1.6206</td>\n",
       "      <td>34.805032</td>\n",
       "      <td>overweight</td>\n",
       "    </tr>\n",
       "    <tr>\n",
       "      <th>979</th>\n",
       "      <td>774-35-1552</td>\n",
       "      <td>Talbot</td>\n",
       "      <td>Carlino</td>\n",
       "      <td>Male</td>\n",
       "      <td>170.26</td>\n",
       "      <td>1.7026</td>\n",
       "      <td>28.573432</td>\n",
       "      <td>normal</td>\n",
       "    </tr>\n",
       "    <tr>\n",
       "      <th>980</th>\n",
       "      <td>390-74-3488</td>\n",
       "      <td>Shurlock</td>\n",
       "      <td>Giddy</td>\n",
       "      <td>Male</td>\n",
       "      <td>172.84</td>\n",
       "      <td>1.7284</td>\n",
       "      <td>22.548287</td>\n",
       "      <td>normal</td>\n",
       "    </tr>\n",
       "    <tr>\n",
       "      <th>981</th>\n",
       "      <td>183-12-6354</td>\n",
       "      <td>Frederigo</td>\n",
       "      <td>Flag</td>\n",
       "      <td>Male</td>\n",
       "      <td>178.26</td>\n",
       "      <td>1.7826</td>\n",
       "      <td>33.216237</td>\n",
       "      <td>overweight</td>\n",
       "    </tr>\n",
       "    <tr>\n",
       "      <th>982</th>\n",
       "      <td>553-52-4624</td>\n",
       "      <td>Ebba</td>\n",
       "      <td>Ridgers</td>\n",
       "      <td>Female</td>\n",
       "      <td>161.54</td>\n",
       "      <td>1.6154</td>\n",
       "      <td>31.756833</td>\n",
       "      <td>overweight</td>\n",
       "    </tr>\n",
       "    <tr>\n",
       "      <th>983</th>\n",
       "      <td>319-71-3406</td>\n",
       "      <td>Nikaniki</td>\n",
       "      <td>Fossey</td>\n",
       "      <td>Female</td>\n",
       "      <td>180.04</td>\n",
       "      <td>1.8004</td>\n",
       "      <td>22.153733</td>\n",
       "      <td>normal</td>\n",
       "    </tr>\n",
       "    <tr>\n",
       "      <th>984</th>\n",
       "      <td>608-02-3535</td>\n",
       "      <td>Brent</td>\n",
       "      <td>Eykelbosch</td>\n",
       "      <td>Male</td>\n",
       "      <td>178.81</td>\n",
       "      <td>1.7881</td>\n",
       "      <td>30.757186</td>\n",
       "      <td>overweight</td>\n",
       "    </tr>\n",
       "    <tr>\n",
       "      <th>985</th>\n",
       "      <td>428-28-6357</td>\n",
       "      <td>Karina</td>\n",
       "      <td>Burgin</td>\n",
       "      <td>Female</td>\n",
       "      <td>158.38</td>\n",
       "      <td>1.5838</td>\n",
       "      <td>27.901999</td>\n",
       "      <td>normal</td>\n",
       "    </tr>\n",
       "    <tr>\n",
       "      <th>986</th>\n",
       "      <td>677-91-0390</td>\n",
       "      <td>Clemente</td>\n",
       "      <td>Mattusov</td>\n",
       "      <td>Male</td>\n",
       "      <td>187.44</td>\n",
       "      <td>1.8744</td>\n",
       "      <td>27.827940</td>\n",
       "      <td>normal</td>\n",
       "    </tr>\n",
       "    <tr>\n",
       "      <th>987</th>\n",
       "      <td>498-41-6722</td>\n",
       "      <td>Melicent</td>\n",
       "      <td>Mainland</td>\n",
       "      <td>Female</td>\n",
       "      <td>163.53</td>\n",
       "      <td>1.6353</td>\n",
       "      <td>27.507229</td>\n",
       "      <td>normal</td>\n",
       "    </tr>\n",
       "    <tr>\n",
       "      <th>988</th>\n",
       "      <td>620-84-2915</td>\n",
       "      <td>Issie</td>\n",
       "      <td>Guerin</td>\n",
       "      <td>Female</td>\n",
       "      <td>176.56</td>\n",
       "      <td>1.7656</td>\n",
       "      <td>15.936647</td>\n",
       "      <td>normal</td>\n",
       "    </tr>\n",
       "    <tr>\n",
       "      <th>989</th>\n",
       "      <td>397-57-7478</td>\n",
       "      <td>Mort</td>\n",
       "      <td>Bansal</td>\n",
       "      <td>Male</td>\n",
       "      <td>150.61</td>\n",
       "      <td>1.5061</td>\n",
       "      <td>38.543652</td>\n",
       "      <td>overweight</td>\n",
       "    </tr>\n",
       "    <tr>\n",
       "      <th>990</th>\n",
       "      <td>695-67-5738</td>\n",
       "      <td>Laird</td>\n",
       "      <td>Ayer</td>\n",
       "      <td>Male</td>\n",
       "      <td>155.63</td>\n",
       "      <td>1.5563</td>\n",
       "      <td>28.958704</td>\n",
       "      <td>normal</td>\n",
       "    </tr>\n",
       "    <tr>\n",
       "      <th>991</th>\n",
       "      <td>787-68-1559</td>\n",
       "      <td>Selena</td>\n",
       "      <td>Grewes</td>\n",
       "      <td>Female</td>\n",
       "      <td>159.67</td>\n",
       "      <td>1.5967</td>\n",
       "      <td>34.058314</td>\n",
       "      <td>overweight</td>\n",
       "    </tr>\n",
       "    <tr>\n",
       "      <th>992</th>\n",
       "      <td>163-82-0270</td>\n",
       "      <td>Katerina</td>\n",
       "      <td>Standeven</td>\n",
       "      <td>Female</td>\n",
       "      <td>163.18</td>\n",
       "      <td>1.6318</td>\n",
       "      <td>34.306364</td>\n",
       "      <td>overweight</td>\n",
       "    </tr>\n",
       "    <tr>\n",
       "      <th>993</th>\n",
       "      <td>109-65-5931</td>\n",
       "      <td>Guy</td>\n",
       "      <td>Yoakley</td>\n",
       "      <td>Male</td>\n",
       "      <td>169.19</td>\n",
       "      <td>1.6919</td>\n",
       "      <td>29.564801</td>\n",
       "      <td>normal</td>\n",
       "    </tr>\n",
       "    <tr>\n",
       "      <th>994</th>\n",
       "      <td>306-47-1291</td>\n",
       "      <td>Natassia</td>\n",
       "      <td>Robers</td>\n",
       "      <td>Female</td>\n",
       "      <td>169.35</td>\n",
       "      <td>1.6935</td>\n",
       "      <td>26.984504</td>\n",
       "      <td>normal</td>\n",
       "    </tr>\n",
       "    <tr>\n",
       "      <th>995</th>\n",
       "      <td>732-65-6326</td>\n",
       "      <td>Cobbie</td>\n",
       "      <td>Flitcroft</td>\n",
       "      <td>Male</td>\n",
       "      <td>159.55</td>\n",
       "      <td>1.5955</td>\n",
       "      <td>33.634239</td>\n",
       "      <td>overweight</td>\n",
       "    </tr>\n",
       "    <tr>\n",
       "      <th>996</th>\n",
       "      <td>869-19-5879</td>\n",
       "      <td>Link</td>\n",
       "      <td>Mallan</td>\n",
       "      <td>Male</td>\n",
       "      <td>150.90</td>\n",
       "      <td>1.5090</td>\n",
       "      <td>41.851827</td>\n",
       "      <td>overweight</td>\n",
       "    </tr>\n",
       "    <tr>\n",
       "      <th>997</th>\n",
       "      <td>760-29-3381</td>\n",
       "      <td>Inglebert</td>\n",
       "      <td>Chave</td>\n",
       "      <td>Male</td>\n",
       "      <td>181.82</td>\n",
       "      <td>1.8182</td>\n",
       "      <td>32.170232</td>\n",
       "      <td>overweight</td>\n",
       "    </tr>\n",
       "    <tr>\n",
       "      <th>998</th>\n",
       "      <td>208-53-9148</td>\n",
       "      <td>Leonhard</td>\n",
       "      <td>Drawmer</td>\n",
       "      <td>Male</td>\n",
       "      <td>169.98</td>\n",
       "      <td>1.6998</td>\n",
       "      <td>33.014688</td>\n",
       "      <td>overweight</td>\n",
       "    </tr>\n",
       "    <tr>\n",
       "      <th>999</th>\n",
       "      <td>423-03-7537</td>\n",
       "      <td>Mellisent</td>\n",
       "      <td>Valintine</td>\n",
       "      <td>Female</td>\n",
       "      <td>180.23</td>\n",
       "      <td>1.8023</td>\n",
       "      <td>33.426867</td>\n",
       "      <td>overweight</td>\n",
       "    </tr>\n",
       "  </tbody>\n",
       "</table>\n",
       "<p>984 rows × 8 columns</p>\n",
       "</div>"
      ],
      "text/plain": [
       "              id     first_name      last_name     sex  height  height_meter  \\\n",
       "0    289-90-0980        Shirley         Baylay  Female  169.09        1.6909   \n",
       "1    709-24-2905        Beltran         Olczyk    Male  172.48        1.7248   \n",
       "2    408-48-6169         Gussie         Wenban  Female  168.62        1.6862   \n",
       "3    576-36-5194       Fernando      Bettenson    Male  174.42        1.7442   \n",
       "4    124-96-2199          Rikki       Bruckman  Female  185.57        1.8557   \n",
       "5    534-15-9694           Phil         Malser  Female  154.92        1.5492   \n",
       "6    662-30-5431        Lindsay      O'Donovan  Female  176.01        1.7601   \n",
       "7    823-16-1039          Alwin        Studman    Male  171.02        1.7102   \n",
       "8    499-20-2699         Dennie   Dellenbroker    Male  187.61        1.8761   \n",
       "9    200-53-8859         Lilyan     Langcastle  Female  155.24        1.5524   \n",
       "10   105-78-7538         Raynor          Byers    Male  155.26        1.5526   \n",
       "11   708-03-7487        Isadora        Fosdick  Female  188.38        1.8838   \n",
       "12   338-74-5379           Riki      MacMurray  Female  175.30        1.7530   \n",
       "13   672-68-8153        Rancell       Sheivels    Male  173.90        1.7390   \n",
       "14   807-93-3700         Ardith           Gipp  Female  180.26        1.8026   \n",
       "15   139-28-0118       Kirsteni   Fraczkiewicz  Female  189.40        1.8940   \n",
       "16   227-29-1308  Shellysheldon       Jankovic    Male  166.48        1.6648   \n",
       "17   595-56-3950         Amanda     Vasishchev  Female  175.05        1.7505   \n",
       "18   213-14-6717        Janenna        Mealand  Female  151.81        1.5181   \n",
       "19   295-85-0351         Andres          Clows    Male  189.57        1.8957   \n",
       "20   158-76-5981         Yvette       Gostling  Female  168.27        1.6827   \n",
       "21   165-34-0505         Corina        Jaquiss  Female  181.11        1.8111   \n",
       "22   438-18-7699          Emile       Ibbotson    Male  182.13        1.8213   \n",
       "23   394-34-6395        Lombard        Provest    Male  155.18        1.5518   \n",
       "24   260-86-4420          Selig        Wilcock    Male  176.60        1.7660   \n",
       "25   896-46-4112        Skipton        Bullier    Male  178.25        1.7825   \n",
       "26   158-75-4678           Asia       Trelease  Female  171.28        1.7128   \n",
       "27   801-73-2389         Farica          Bradd  Female  181.08        1.8108   \n",
       "28   659-65-5664        Jacklyn        Blockey  Female  179.70        1.7970   \n",
       "29   186-37-6945        Timothy        Milmore    Male  178.79        1.7879   \n",
       "..           ...            ...            ...     ...     ...           ...   \n",
       "970  573-71-7163          Berte        Pifford  Female  164.26        1.6426   \n",
       "971  397-11-0944       Chandler          Maier    Male  167.80        1.6780   \n",
       "972  704-48-6823        Whitney          Dykas  Female  171.09        1.7109   \n",
       "973  165-82-2287          Birch      Demkowicz    Male  156.90        1.5690   \n",
       "974  882-31-5352       Antonina           Tuck  Female  167.74        1.6774   \n",
       "975  448-01-8134         Galvin        Crenage    Male  164.18        1.6418   \n",
       "976  688-30-7379         Austin  Shufflebotham    Male  175.27        1.7527   \n",
       "977  652-15-5420        Abagael        Koppens  Female  181.51        1.8151   \n",
       "978  552-52-1069          Flynn     MacKissack    Male  162.06        1.6206   \n",
       "979  774-35-1552         Talbot        Carlino    Male  170.26        1.7026   \n",
       "980  390-74-3488       Shurlock          Giddy    Male  172.84        1.7284   \n",
       "981  183-12-6354      Frederigo           Flag    Male  178.26        1.7826   \n",
       "982  553-52-4624           Ebba        Ridgers  Female  161.54        1.6154   \n",
       "983  319-71-3406       Nikaniki         Fossey  Female  180.04        1.8004   \n",
       "984  608-02-3535          Brent     Eykelbosch    Male  178.81        1.7881   \n",
       "985  428-28-6357         Karina         Burgin  Female  158.38        1.5838   \n",
       "986  677-91-0390       Clemente       Mattusov    Male  187.44        1.8744   \n",
       "987  498-41-6722       Melicent       Mainland  Female  163.53        1.6353   \n",
       "988  620-84-2915          Issie         Guerin  Female  176.56        1.7656   \n",
       "989  397-57-7478           Mort         Bansal    Male  150.61        1.5061   \n",
       "990  695-67-5738          Laird           Ayer    Male  155.63        1.5563   \n",
       "991  787-68-1559         Selena         Grewes  Female  159.67        1.5967   \n",
       "992  163-82-0270       Katerina      Standeven  Female  163.18        1.6318   \n",
       "993  109-65-5931            Guy        Yoakley    Male  169.19        1.6919   \n",
       "994  306-47-1291       Natassia         Robers  Female  169.35        1.6935   \n",
       "995  732-65-6326         Cobbie      Flitcroft    Male  159.55        1.5955   \n",
       "996  869-19-5879           Link         Mallan    Male  150.90        1.5090   \n",
       "997  760-29-3381      Inglebert          Chave    Male  181.82        1.8182   \n",
       "998  208-53-9148       Leonhard        Drawmer    Male  169.98        1.6998   \n",
       "999  423-03-7537      Mellisent      Valintine  Female  180.23        1.8023   \n",
       "\n",
       "           BMI       class  \n",
       "0    28.756871      normal  \n",
       "1    30.733444  overweight  \n",
       "2    26.068572      normal  \n",
       "3    28.472501      normal  \n",
       "4    15.974457      normal  \n",
       "5    41.732974  overweight  \n",
       "6    33.825572  overweight  \n",
       "7    21.399871      normal  \n",
       "8    17.890469      normal  \n",
       "9    20.934081      normal  \n",
       "10   29.968056      normal  \n",
       "11   21.782610      normal  \n",
       "12   17.438934      normal  \n",
       "13   20.167844      normal  \n",
       "14   18.092756      normal  \n",
       "15   16.374724      normal  \n",
       "16   24.239065      normal  \n",
       "17   17.795544      normal  \n",
       "18   27.674753      normal  \n",
       "19   12.716775      normal  \n",
       "20   24.880987      normal  \n",
       "21   21.036052      normal  \n",
       "22   32.482863  overweight  \n",
       "23   37.623284  overweight  \n",
       "24   26.844037      normal  \n",
       "25   25.723048      normal  \n",
       "26   34.359531  overweight  \n",
       "27   28.831991      normal  \n",
       "28   19.035621      normal  \n",
       "29   34.295960  overweight  \n",
       "..         ...         ...  \n",
       "970  23.145619      normal  \n",
       "971  16.979888      normal  \n",
       "972  33.489584  overweight  \n",
       "973  22.455470      normal  \n",
       "974  24.736370      normal  \n",
       "975  36.657293  overweight  \n",
       "976  17.177973      normal  \n",
       "977  24.370270      normal  \n",
       "978  34.805032  overweight  \n",
       "979  28.573432      normal  \n",
       "980  22.548287      normal  \n",
       "981  33.216237  overweight  \n",
       "982  31.756833  overweight  \n",
       "983  22.153733      normal  \n",
       "984  30.757186  overweight  \n",
       "985  27.901999      normal  \n",
       "986  27.827940      normal  \n",
       "987  27.507229      normal  \n",
       "988  15.936647      normal  \n",
       "989  38.543652  overweight  \n",
       "990  28.958704      normal  \n",
       "991  34.058314  overweight  \n",
       "992  34.306364  overweight  \n",
       "993  29.564801      normal  \n",
       "994  26.984504      normal  \n",
       "995  33.634239  overweight  \n",
       "996  41.851827  overweight  \n",
       "997  32.170232  overweight  \n",
       "998  33.014688  overweight  \n",
       "999  33.426867  overweight  \n",
       "\n",
       "[984 rows x 8 columns]"
      ]
     },
     "execution_count": 307,
     "metadata": {},
     "output_type": "execute_result"
    }
   ],
   "source": [
    "cln_data"
   ]
  },
  {
   "cell_type": "code",
   "execution_count": 311,
   "metadata": {},
   "outputs": [
    {
     "data": {
      "text/html": [
       "<div>\n",
       "<style>\n",
       "    .dataframe thead tr:only-child th {\n",
       "        text-align: right;\n",
       "    }\n",
       "\n",
       "    .dataframe thead th {\n",
       "        text-align: left;\n",
       "    }\n",
       "\n",
       "    .dataframe tbody tr th {\n",
       "        vertical-align: top;\n",
       "    }\n",
       "</style>\n",
       "<table border=\"1\" class=\"dataframe\">\n",
       "  <thead>\n",
       "    <tr style=\"text-align: right;\">\n",
       "      <th>class</th>\n",
       "      <th>normal</th>\n",
       "      <th>overweight</th>\n",
       "    </tr>\n",
       "    <tr>\n",
       "      <th>sex</th>\n",
       "      <th></th>\n",
       "      <th></th>\n",
       "    </tr>\n",
       "  </thead>\n",
       "  <tbody>\n",
       "    <tr>\n",
       "      <th>Female</th>\n",
       "      <td>323</td>\n",
       "      <td>149</td>\n",
       "    </tr>\n",
       "    <tr>\n",
       "      <th>Male</th>\n",
       "      <td>324</td>\n",
       "      <td>188</td>\n",
       "    </tr>\n",
       "  </tbody>\n",
       "</table>\n",
       "</div>"
      ],
      "text/plain": [
       "class   normal  overweight\n",
       "sex                       \n",
       "Female     323         149\n",
       "Male       324         188"
      ]
     },
     "execution_count": 311,
     "metadata": {},
     "output_type": "execute_result"
    }
   ],
   "source": [
    "pd.crosstab(cln_data['sex'], cln_data['class'])"
   ]
  },
  {
   "cell_type": "code",
   "execution_count": 332,
   "metadata": {},
   "outputs": [
    {
     "data": {
      "text/html": [
       "<div>\n",
       "<style>\n",
       "    .dataframe thead tr:only-child th {\n",
       "        text-align: right;\n",
       "    }\n",
       "\n",
       "    .dataframe thead th {\n",
       "        text-align: left;\n",
       "    }\n",
       "\n",
       "    .dataframe tbody tr th {\n",
       "        vertical-align: top;\n",
       "    }\n",
       "</style>\n",
       "<table border=\"1\" class=\"dataframe\">\n",
       "  <thead>\n",
       "    <tr style=\"text-align: right;\">\n",
       "      <th>class</th>\n",
       "      <th>normal</th>\n",
       "      <th>overweight</th>\n",
       "      <th>All</th>\n",
       "    </tr>\n",
       "    <tr>\n",
       "      <th>sex</th>\n",
       "      <th></th>\n",
       "      <th></th>\n",
       "      <th></th>\n",
       "    </tr>\n",
       "  </thead>\n",
       "  <tbody>\n",
       "    <tr>\n",
       "      <th>Female</th>\n",
       "      <td>323</td>\n",
       "      <td>149</td>\n",
       "      <td>472</td>\n",
       "    </tr>\n",
       "    <tr>\n",
       "      <th>Male</th>\n",
       "      <td>324</td>\n",
       "      <td>188</td>\n",
       "      <td>512</td>\n",
       "    </tr>\n",
       "    <tr>\n",
       "      <th>All</th>\n",
       "      <td>647</td>\n",
       "      <td>337</td>\n",
       "      <td>984</td>\n",
       "    </tr>\n",
       "  </tbody>\n",
       "</table>\n",
       "</div>"
      ],
      "text/plain": [
       "class   normal  overweight  All\n",
       "sex                            \n",
       "Female     323         149  472\n",
       "Male       324         188  512\n",
       "All        647         337  984"
      ]
     },
     "execution_count": 332,
     "metadata": {},
     "output_type": "execute_result"
    }
   ],
   "source": [
    "pd.crosstab(cln_data['sex'], cln_data['class'],\n",
    "            margins=True)"
   ]
  },
  {
   "cell_type": "code",
   "execution_count": 325,
   "metadata": {},
   "outputs": [
    {
     "data": {
      "text/html": [
       "<div>\n",
       "<style>\n",
       "    .dataframe thead tr:only-child th {\n",
       "        text-align: right;\n",
       "    }\n",
       "\n",
       "    .dataframe thead th {\n",
       "        text-align: left;\n",
       "    }\n",
       "\n",
       "    .dataframe tbody tr th {\n",
       "        vertical-align: top;\n",
       "    }\n",
       "</style>\n",
       "<table border=\"1\" class=\"dataframe\">\n",
       "  <thead>\n",
       "    <tr style=\"text-align: right;\">\n",
       "      <th>class</th>\n",
       "      <th>normal</th>\n",
       "      <th>overweight</th>\n",
       "    </tr>\n",
       "    <tr>\n",
       "      <th>sex</th>\n",
       "      <th></th>\n",
       "      <th></th>\n",
       "    </tr>\n",
       "  </thead>\n",
       "  <tbody>\n",
       "    <tr>\n",
       "      <th>Female</th>\n",
       "      <td>0.684322</td>\n",
       "      <td>0.315678</td>\n",
       "    </tr>\n",
       "    <tr>\n",
       "      <th>Male</th>\n",
       "      <td>0.632812</td>\n",
       "      <td>0.367188</td>\n",
       "    </tr>\n",
       "  </tbody>\n",
       "</table>\n",
       "</div>"
      ],
      "text/plain": [
       "class     normal  overweight\n",
       "sex                         \n",
       "Female  0.684322    0.315678\n",
       "Male    0.632812    0.367188"
      ]
     },
     "execution_count": 325,
     "metadata": {},
     "output_type": "execute_result"
    }
   ],
   "source": [
    "pd.crosstab(cln_data['sex'], cln_data['class'],\n",
    "            normalize='index')"
   ]
  },
  {
   "cell_type": "code",
   "execution_count": 330,
   "metadata": {
    "collapsed": true
   },
   "outputs": [],
   "source": [
    "cln_data.pivot_table?"
   ]
  },
  {
   "cell_type": "code",
   "execution_count": 331,
   "metadata": {},
   "outputs": [
    {
     "data": {
      "text/html": [
       "<div>\n",
       "<style>\n",
       "    .dataframe thead tr:only-child th {\n",
       "        text-align: right;\n",
       "    }\n",
       "\n",
       "    .dataframe thead th {\n",
       "        text-align: left;\n",
       "    }\n",
       "\n",
       "    .dataframe tbody tr th {\n",
       "        vertical-align: top;\n",
       "    }\n",
       "</style>\n",
       "<table border=\"1\" class=\"dataframe\">\n",
       "  <thead>\n",
       "    <tr style=\"text-align: right;\">\n",
       "      <th></th>\n",
       "      <th>id</th>\n",
       "      <th>first_name</th>\n",
       "      <th>last_name</th>\n",
       "      <th>sex</th>\n",
       "      <th>height</th>\n",
       "      <th>height_meter</th>\n",
       "      <th>BMI</th>\n",
       "      <th>class</th>\n",
       "    </tr>\n",
       "  </thead>\n",
       "  <tbody>\n",
       "    <tr>\n",
       "      <th>0</th>\n",
       "      <td>289-90-0980</td>\n",
       "      <td>Shirley</td>\n",
       "      <td>Baylay</td>\n",
       "      <td>Female</td>\n",
       "      <td>169.09</td>\n",
       "      <td>1.6909</td>\n",
       "      <td>28.756871</td>\n",
       "      <td>normal</td>\n",
       "    </tr>\n",
       "    <tr>\n",
       "      <th>1</th>\n",
       "      <td>709-24-2905</td>\n",
       "      <td>Beltran</td>\n",
       "      <td>Olczyk</td>\n",
       "      <td>Male</td>\n",
       "      <td>172.48</td>\n",
       "      <td>1.7248</td>\n",
       "      <td>30.733444</td>\n",
       "      <td>overweight</td>\n",
       "    </tr>\n",
       "    <tr>\n",
       "      <th>2</th>\n",
       "      <td>408-48-6169</td>\n",
       "      <td>Gussie</td>\n",
       "      <td>Wenban</td>\n",
       "      <td>Female</td>\n",
       "      <td>168.62</td>\n",
       "      <td>1.6862</td>\n",
       "      <td>26.068572</td>\n",
       "      <td>normal</td>\n",
       "    </tr>\n",
       "    <tr>\n",
       "      <th>3</th>\n",
       "      <td>576-36-5194</td>\n",
       "      <td>Fernando</td>\n",
       "      <td>Bettenson</td>\n",
       "      <td>Male</td>\n",
       "      <td>174.42</td>\n",
       "      <td>1.7442</td>\n",
       "      <td>28.472501</td>\n",
       "      <td>normal</td>\n",
       "    </tr>\n",
       "    <tr>\n",
       "      <th>4</th>\n",
       "      <td>124-96-2199</td>\n",
       "      <td>Rikki</td>\n",
       "      <td>Bruckman</td>\n",
       "      <td>Female</td>\n",
       "      <td>185.57</td>\n",
       "      <td>1.8557</td>\n",
       "      <td>15.974457</td>\n",
       "      <td>normal</td>\n",
       "    </tr>\n",
       "  </tbody>\n",
       "</table>\n",
       "</div>"
      ],
      "text/plain": [
       "            id first_name  last_name     sex  height  height_meter        BMI  \\\n",
       "0  289-90-0980    Shirley     Baylay  Female  169.09        1.6909  28.756871   \n",
       "1  709-24-2905    Beltran     Olczyk    Male  172.48        1.7248  30.733444   \n",
       "2  408-48-6169     Gussie     Wenban  Female  168.62        1.6862  26.068572   \n",
       "3  576-36-5194   Fernando  Bettenson    Male  174.42        1.7442  28.472501   \n",
       "4  124-96-2199      Rikki   Bruckman  Female  185.57        1.8557  15.974457   \n",
       "\n",
       "        class  \n",
       "0      normal  \n",
       "1  overweight  \n",
       "2      normal  \n",
       "3      normal  \n",
       "4      normal  "
      ]
     },
     "execution_count": 331,
     "metadata": {},
     "output_type": "execute_result"
    }
   ],
   "source": [
    "cln_data.head()"
   ]
  },
  {
   "cell_type": "code",
   "execution_count": 340,
   "metadata": {},
   "outputs": [],
   "source": [
    "data = pd.read_csv('raw_sample.csv', sep=',', index_col='id')"
   ]
  },
  {
   "cell_type": "code",
   "execution_count": 341,
   "metadata": {},
   "outputs": [
    {
     "data": {
      "text/html": [
       "<div>\n",
       "<style>\n",
       "    .dataframe thead tr:only-child th {\n",
       "        text-align: right;\n",
       "    }\n",
       "\n",
       "    .dataframe thead th {\n",
       "        text-align: left;\n",
       "    }\n",
       "\n",
       "    .dataframe tbody tr th {\n",
       "        vertical-align: top;\n",
       "    }\n",
       "</style>\n",
       "<table border=\"1\" class=\"dataframe\">\n",
       "  <thead>\n",
       "    <tr style=\"text-align: right;\">\n",
       "      <th></th>\n",
       "      <th>Unnamed: 0</th>\n",
       "      <th>first_name</th>\n",
       "      <th>last_name</th>\n",
       "      <th>gender</th>\n",
       "      <th>weight</th>\n",
       "      <th>height</th>\n",
       "    </tr>\n",
       "    <tr>\n",
       "      <th>id</th>\n",
       "      <th></th>\n",
       "      <th></th>\n",
       "      <th></th>\n",
       "      <th></th>\n",
       "      <th></th>\n",
       "      <th></th>\n",
       "    </tr>\n",
       "  </thead>\n",
       "  <tbody>\n",
       "    <tr>\n",
       "      <th>289-90-0980</th>\n",
       "      <td>0</td>\n",
       "      <td>Shirley</td>\n",
       "      <td>Baylay</td>\n",
       "      <td>Female</td>\n",
       "      <td>82.22</td>\n",
       "      <td>169.09</td>\n",
       "    </tr>\n",
       "    <tr>\n",
       "      <th>709-24-2905</th>\n",
       "      <td>1</td>\n",
       "      <td>Beltran</td>\n",
       "      <td>Olczyk</td>\n",
       "      <td>Male</td>\n",
       "      <td>91.43</td>\n",
       "      <td>172.48</td>\n",
       "    </tr>\n",
       "    <tr>\n",
       "      <th>408-48-6169</th>\n",
       "      <td>2</td>\n",
       "      <td>Gussie</td>\n",
       "      <td>Wenban</td>\n",
       "      <td>Female</td>\n",
       "      <td>74.12</td>\n",
       "      <td>168.62</td>\n",
       "    </tr>\n",
       "    <tr>\n",
       "      <th>576-36-5194</th>\n",
       "      <td>3</td>\n",
       "      <td>Fernando</td>\n",
       "      <td>Bettenson</td>\n",
       "      <td>Male</td>\n",
       "      <td>86.62</td>\n",
       "      <td>174.42</td>\n",
       "    </tr>\n",
       "    <tr>\n",
       "      <th>124-96-2199</th>\n",
       "      <td>4</td>\n",
       "      <td>Rikki</td>\n",
       "      <td>Bruckman</td>\n",
       "      <td>Female</td>\n",
       "      <td>55.01</td>\n",
       "      <td>185.57</td>\n",
       "    </tr>\n",
       "  </tbody>\n",
       "</table>\n",
       "</div>"
      ],
      "text/plain": [
       "             Unnamed: 0 first_name  last_name  gender  weight  height\n",
       "id                                                                   \n",
       "289-90-0980           0    Shirley     Baylay  Female   82.22  169.09\n",
       "709-24-2905           1    Beltran     Olczyk    Male   91.43  172.48\n",
       "408-48-6169           2     Gussie     Wenban  Female   74.12  168.62\n",
       "576-36-5194           3   Fernando  Bettenson    Male   86.62  174.42\n",
       "124-96-2199           4      Rikki   Bruckman  Female   55.01  185.57"
      ]
     },
     "execution_count": 341,
     "metadata": {},
     "output_type": "execute_result"
    }
   ],
   "source": [
    "data.head()"
   ]
  },
  {
   "cell_type": "code",
   "execution_count": null,
   "metadata": {
    "collapsed": true
   },
   "outputs": [],
   "source": []
  }
 ],
 "metadata": {
  "kernelspec": {
   "display_name": "Python 2",
   "language": "python",
   "name": "python2"
  },
  "language_info": {
   "codemirror_mode": {
    "name": "ipython",
    "version": 2
   },
   "file_extension": ".py",
   "mimetype": "text/x-python",
   "name": "python",
   "nbconvert_exporter": "python",
   "pygments_lexer": "ipython2",
   "version": "2.7.13"
  }
 },
 "nbformat": 4,
 "nbformat_minor": 2
}
